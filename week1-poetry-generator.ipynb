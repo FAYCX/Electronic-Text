{
 "cells": [
  {
   "cell_type": "code",
   "execution_count": 8,
   "id": "2ac12f33",
   "metadata": {},
   "outputs": [],
   "source": [
    "import random "
   ]
  },
  {
   "cell_type": "code",
   "execution_count": 14,
   "id": "d5736788",
   "metadata": {},
   "outputs": [],
   "source": [
    "titles = [\n",
    "    'metaphysics',\n",
    "    'enigma',\n",
    "    'existentialism',\n",
    "    'an otherworldly entity',\n",
    "    'an ancient nebula',\n",
    "    'a celestial dance',\n",
    "    'serendipity',\n",
    "    'beneath the trees',\n",
    "    'hours in the garden',\n",
    "    'the poet',\n",
    "    'dreams',\n",
    "    'the weaver\\'s grave',\n",
    "    \"a child's heart\",\n",
    "    'song of the bees',\n",
    "    'from childhood to old age',\n",
    "    'a evening on the lake'\n",
    "    \n",
    "]"
   ]
  },
  {
   "cell_type": "code",
   "execution_count": 15,
   "id": "76fb9837",
   "metadata": {},
   "outputs": [],
   "source": [
    "locations = [\n",
    "    'among high mountains',\n",
    "    'among other realms',\n",
    "    'among small ponds',\n",
    "    'by a river',\n",
    "    'by an abandoned lake',\n",
    "    'by the sea',\n",
    "    'in a deserted airport',\n",
    "    'in a deserted church',\n",
    "    'in a deserted factory',\n",
    "    'in a green, mossy terrain',\n",
    "    'in a metropolis',\n",
    "    'in a place with both heavy rain and bright sun',\n",
    "    'in an overpopulated area',\n",
    "    'in dense woods',\n",
    "    'in heavy jungle undergrowth',\n",
    "    'inside a mountain',\n",
    "    'on an island',\n",
    "    'on the sea',\n",
    "    'underwater'\n",
    "]"
   ]
  },
  {
   "cell_type": "code",
   "execution_count": 16,
   "id": "66ecede1",
   "metadata": {},
   "outputs": [],
   "source": [
    "lights = [\n",
    "    'moonlight filtering through leaves',\n",
    "    'city lights reflected in rain-soaked streets',\n",
    "    'morning sunlight breaking through the clouds',\n",
    "    'candlelight flickering in a gentle breeze',\n",
    "    'the glow of a lantern in the darkness',\n",
    "    'street lamps lining a quiet alley',\n",
    "    'starry constellations in the night sky',\n",
    "    'fireflies dancing in the summer evening',\n",
    "    'the first light of dawn on the horizon',\n",
    "    'twinkling fairy lights in a garden',\n",
    "    'the warm glow of a fireplace',\n",
    "    'reflections on a dew-covered meadow',\n",
    "    'the flash of a lighthouse in the distance',\n",
    "    'shadows cast by a setting sun',\n",
    "    'the shimmering aurora polar star',\n",
    "    'the soft radiance of a full moon',\n",
    "    'glittering frost on a winter morning',\n",
    "    'neon signs illuminating a cityscape',\n",
    "    'bioluminescent organisms in the ocean',\n",
    "    'cascading lights of a waterfall'\n",
    "]"
   ]
  },
  {
   "cell_type": "code",
   "execution_count": 17,
   "id": "2ba996ee",
   "metadata": {},
   "outputs": [],
   "source": [
    "inhabitants = [\n",
    "    'brothers',\n",
    "    'childrens',\n",
    "    'collectors of all types',\n",
    "    'old people',\n",
    "    'fishermen and families',\n",
    "    'french speaking people',\n",
    "    'friends',\n",
    "    'enemies',\n",
    "    'horses',\n",
    "    'lovers',\n",
    "    'sisters',\n",
    "    'people from many walks of life',\n",
    "    'people speaking many languages',\n",
    "    'people who eat a great deal',\n",
    "    'people who enjoy eating together',\n",
    "    'people who love to read',\n",
    "    'people who sleep almost all the time',\n",
    "    'people who sleep very little',\n",
    "    'various birds',\n",
    "    'vegetarians',\n",
    "    'tree huggers'\n",
    "]"
   ]
  },
  {
   "cell_type": "code",
   "execution_count": 19,
   "id": "75cde934",
   "metadata": {},
   "outputs": [
    {
     "name": "stdout",
     "output_type": "stream",
     "text": [
      "\n",
      "A story of metaphysics\n",
      "     on an island\n",
      "          questioning the soft radiance of a full moon\n",
      "                told by enemies\n",
      "\n",
      "A story of existentialism\n",
      "     by a river\n",
      "          questioning moonlight filtering through leaves\n",
      "                told by friends\n",
      "\n",
      "A story of dreams\n",
      "     in an overpopulated area\n",
      "          questioning the shimmering aurora polar star\n",
      "                told by brothers\n",
      "\n",
      "A story of the poet\n",
      "     in a deserted church\n",
      "          questioning the flash of a lighthouse in the distance\n",
      "                told by friends\n",
      "\n",
      "A story of beneath the trees\n",
      "     among other realms\n",
      "          questioning fireflies dancing in the summer evening\n",
      "                told by people who sleep very little\n",
      "\n",
      "A story of hours in the garden\n",
      "     among small ponds\n",
      "          questioning moonlight filtering through leaves\n",
      "                told by people who eat a great deal\n",
      "\n",
      "A story of a child's heart\n",
      "     underwater\n",
      "          questioning neon signs illuminating a cityscape\n",
      "                told by tree huggers\n"
     ]
    }
   ],
   "source": [
    "stanza_count = 7\n",
    "for i in range(stanza_count):\n",
    "    print()\n",
    "    print(\"A story of \" + random.choice(titles))\n",
    "    print(\"     \" + random.choice(locations))\n",
    "    print(\"          questioning \" + random.choice(lights))\n",
    "    print(\"                told by \" + random.choice(inhabitants))"
   ]
  }
 ],
 "metadata": {
  "kernelspec": {
   "display_name": "Python 3 (ipykernel)",
   "language": "python",
   "name": "python3"
  },
  "language_info": {
   "codemirror_mode": {
    "name": "ipython",
    "version": 3
   },
   "file_extension": ".py",
   "mimetype": "text/x-python",
   "name": "python",
   "nbconvert_exporter": "python",
   "pygments_lexer": "ipython3",
   "version": "3.11.5"
  }
 },
 "nbformat": 4,
 "nbformat_minor": 5
}
