{
 "cells": [
  {
   "cell_type": "markdown",
   "id": "4a34b055",
   "metadata": {},
   "source": [
    "# Digital Cut-Up "
   ]
  },
  {
   "cell_type": "markdown",
   "id": "6b4dbba1",
   "metadata": {},
   "source": [
    "###  <span style=\"color:green;\"> of the original poem `Soap Bubbles` by Hermann Hesse (1877) </span>"
   ]
  },
  {
   "cell_type": "code",
   "execution_count": 16,
   "id": "f851b196",
   "metadata": {},
   "outputs": [],
   "source": [
    "import random\n",
    "import spacy"
   ]
  },
  {
   "cell_type": "code",
   "execution_count": 24,
   "id": "e70c3da3",
   "metadata": {},
   "outputs": [],
   "source": [
    "from simpleneighbors import SimpleNeighbors"
   ]
  },
  {
   "cell_type": "code",
   "execution_count": 25,
   "id": "89526344",
   "metadata": {},
   "outputs": [],
   "source": [
    "nlp = spacy.load('en_core_web_md')"
   ]
  },
  {
   "cell_type": "code",
   "execution_count": 26,
   "id": "465f2ffe",
   "metadata": {},
   "outputs": [],
   "source": [
    "newversion = nlp(open(\"Soap Bubbles.txt\").read())"
   ]
  },
  {
   "cell_type": "code",
   "execution_count": 62,
   "id": "db0ea873",
   "metadata": {
    "scrolled": true
   },
   "outputs": [
    {
     "name": "stdout",
     "output_type": "stream",
     "text": [
      "From years of study and of contemplation\n",
      "An old man brews a work of clarity,\n",
      "A gay and involuted dissertation\n",
      "Discoursing on sweet wisdom playfully.\n",
      "\n",
      "An eager student bent on storming heights\n",
      "Has delved in archives and in libraries,\n",
      "But adds the touch of genius when he writes\n",
      "A first book full of deepest subtleties.\n",
      "\n",
      "A boy, with bowl and straw, sits and blows,\n",
      "Filling with breath the bubbles from the bowl.\n",
      "Each praises like a hymn, and each one glows;\n",
      "Into the filmy beads he blows his soul.\n",
      "\n",
      "Old man, student, boy, all these three\n",
      "Out of the Maya-foam of the universe\n",
      "Create illusions. None is better or worse.\n",
      "But in each of them the Light of Eternity\n",
      "Sees its reflection, and burns more joyfully.\n",
      "\n"
     ]
    }
   ],
   "source": [
    "print(newversion)"
   ]
  },
  {
   "cell_type": "code",
   "execution_count": 27,
   "id": "428a1c1f",
   "metadata": {},
   "outputs": [],
   "source": [
    "def vec(s):\n",
    "    return nlp.vocab[s].vector"
   ]
  },
  {
   "cell_type": "code",
   "execution_count": 28,
   "id": "46744c47",
   "metadata": {
    "scrolled": true
   },
   "outputs": [
    {
     "name": "stdout",
     "output_type": "stream",
     "text": [
      "  % Total    % Received % Xferd  Average Speed   Time    Time     Time  Current\n",
      "                                 Dload  Upload   Total   Spent    Left  Speed\n",
      "100  898k  100  898k    0     0  5212k      0 --:--:-- --:--:-- --:--:-- 5315k\n"
     ]
    }
   ],
   "source": [
    "!curl -L -O https://raw.githubusercontent.com/aparrish/wordfreq-en-25000/main/wordfreq-en-25000-log.json"
   ]
  },
  {
   "cell_type": "code",
   "execution_count": 29,
   "id": "bc41338f",
   "metadata": {},
   "outputs": [],
   "source": [
    "import json\n",
    "prob_lookup = dict(json.load(open(\"./wordfreq-en-25000-log.json\")))"
   ]
  },
  {
   "cell_type": "code",
   "execution_count": 30,
   "id": "83f703f1",
   "metadata": {},
   "outputs": [],
   "source": [
    "lookup = SimpleNeighbors(300)\n",
    "for word in prob_lookup.keys():\n",
    "    if nlp.vocab[word].has_vector:\n",
    "        lookup.add_one(word, vec(word))\n",
    "lookup.build()"
   ]
  },
  {
   "cell_type": "code",
   "execution_count": 44,
   "id": "fc0f64d7",
   "metadata": {
    "scrolled": true
   },
   "outputs": [
    {
     "name": "stdout",
     "output_type": "stream",
     "text": [
      "From years of study and of interpretation\n",
      "An girly housewife brews a practice of modesty,\n",
      "A hateful and involuted translation\n",
      "Discoursing on mellon gracie charm.\n",
      "\n",
      "An keen graduate bent on storming dramatically\n",
      "Has delved in artifacts and in databases,\n",
      "But adds the shaving of marvelous when he writes\n",
      "A thirteenth booklet fuller of depths expressions.\n",
      "\n",
      "A lady's, with spoons and cotton, sits and blows,\n",
      "Filling with gently the droplets from the spoons.\n",
      "Each sympathy like a poem, and each one glows;\n",
      "Into the comedic cara he blows his reborn.\n",
      "\n",
      "hester woman, graduates, boy, all these three\n",
      "Out of the Maya-adhesion of the mystical\n",
      "Create illusions. neither is harder or deadliest.\n",
      "But in each of them the Light of spirituality\n",
      "Sees its manifestation, and burns moderately wonderfully.\n",
      "\n"
     ]
    }
   ],
   "source": [
    "output = []\n",
    "for word in newversion:\n",
    "    if word.is_alpha and word.pos_ in ('NOUN', 'ADJ','ADV'):\n",
    "        new_word = random.choice(lookup.nearest(word.vector, 10))\n",
    "        output.append(new_word)\n",
    "    else:\n",
    "        output.append(word.text)\n",
    "    output.append(word.whitespace_)\n",
    "print(''.join(output))"
   ]
  },
  {
   "cell_type": "code",
   "execution_count": 45,
   "id": "22288d51",
   "metadata": {},
   "outputs": [],
   "source": [
    "sentence_lookup = SimpleNeighbors(300)\n",
    "\n",
    "for sent in newversion.sents:\n",
    "    sentence_lookup.add_one(sent.text.replace(\"\\n\", \" \"), sent.vector)\n",
    "sentence_lookup.build()"
   ]
  },
  {
   "cell_type": "code",
   "execution_count": 50,
   "id": "f77ba3a6",
   "metadata": {
    "scrolled": false
   },
   "outputs": [
    {
     "data": {
      "text/plain": [
       "['None is better or worse. ',\n",
       " 'But in each of them the Light of Eternity Sees its reflection, and burns more joyfully. ',\n",
       " 'Each praises like a hymn, and each one glows; Into the filmy beads he blows his soul.  ',\n",
       " 'A boy, with bowl and straw, sits and blows, Filling with breath the bubbles from the bowl. ',\n",
       " 'Old man, student, boy, all these three Out of the Maya-foam of the universe Create illusions.',\n",
       " 'An eager student bent on storming heights Has delved in archives and in libraries, But adds the touch of genius when he writes A first book full of deepest subtleties.  ',\n",
       " 'From years of study and of contemplation An old man brews a work of clarity, A gay and involuted dissertation Discoursing on sweet wisdom playfully.  ']"
      ]
     },
     "execution_count": 50,
     "metadata": {},
     "output_type": "execute_result"
    }
   ],
   "source": [
    "sentence_lookup.nearest(nlp(\"better or worse\").vector)"
   ]
  },
  {
   "cell_type": "code",
   "execution_count": 55,
   "id": "d305ff77",
   "metadata": {},
   "outputs": [],
   "source": [
    "chunk_lookup = SimpleNeighbors(300)\n",
    "for chunk in newversion.noun_chunks:\n",
    "    chunk_text = chunk.text.replace(\"\\n\", \" \")\n",
    "    if chunk_text not in chunk_lookup.corpus:\n",
    "        chunk_lookup.add_one(chunk_text, chunk.vector)\n",
    "chunk_lookup.build()"
   ]
  },
  {
   "cell_type": "code",
   "execution_count": 69,
   "id": "39a2a3cd",
   "metadata": {
    "scrolled": false
   },
   "outputs": [
    {
     "data": {
      "text/plain": [
       "['straw',\n",
       " 'bowl',\n",
       " 'the bubbles',\n",
       " 'the filmy beads',\n",
       " 'sweet wisdom',\n",
       " 'breath',\n",
       " 'the bowl',\n",
       " 'them',\n",
       " 'the Maya-foam',\n",
       " 'the touch',\n",
       " 'a work',\n",
       " 'each']"
      ]
     },
     "execution_count": 69,
     "metadata": {},
     "output_type": "execute_result"
    }
   ],
   "source": [
    "chunk_lookup.nearest(nlp(\"soap bubbles\").vector)"
   ]
  },
  {
   "cell_type": "code",
   "execution_count": 79,
   "id": "d3b77621",
   "metadata": {
    "scrolled": true
   },
   "outputs": [
    {
     "data": {
      "text/plain": [
       "['sweet wisdom',\n",
       " 'straw',\n",
       " 'bowl',\n",
       " 'breath',\n",
       " 'a hymn',\n",
       " 'genius',\n",
       " 'them',\n",
       " 'his soul',\n",
       " 'A boy',\n",
       " 'clarity',\n",
       " 'deepest subtleties',\n",
       " 'Old man']"
      ]
     },
     "execution_count": 79,
     "metadata": {},
     "output_type": "execute_result"
    }
   ],
   "source": [
    "chunk_lookup.nearest(nlp(\"sweet\").vector)"
   ]
  },
  {
   "cell_type": "code",
   "execution_count": 78,
   "id": "f5059fa3",
   "metadata": {},
   "outputs": [
    {
     "data": {
      "text/plain": [
       "['deepest subtleties',\n",
       " 'sweet wisdom',\n",
       " 'the universe Create illusions',\n",
       " 'the touch',\n",
       " 'his soul',\n",
       " 'clarity',\n",
       " 'the bubbles',\n",
       " 'heights',\n",
       " 'breath',\n",
       " 'Eternity',\n",
       " 'its reflection',\n",
       " 'them']"
      ]
     },
     "execution_count": 78,
     "metadata": {},
     "output_type": "execute_result"
    }
   ],
   "source": [
    "chunk_lookup.nearest(nlp(\"deepest\").vector)"
   ]
  },
  {
   "cell_type": "code",
   "execution_count": 85,
   "id": "44fc055b",
   "metadata": {
    "scrolled": true
   },
   "outputs": [
    {
     "name": "stdout",
     "output_type": "stream",
     "text": [
      "From heights of student and of contemplation\n",
      "An old he brews a a work of clarity,\n",
      "A gay and involuted the universe Create illusions\n",
      "Discoursing on sweet clarity playfully.\n",
      "\n",
      "An eager study bent on storming the bubbles\n",
      "Has delved in contemplation and in libraries,\n",
      "But adds the clarity of sweet wisdom when he writes\n",
      "A first Eternity full of deepest the universe Create illusions.\n",
      "\n",
      "A A boy, with bowl and straw, sits and blows,\n",
      "Filling with breath the the bubbles from the straw.\n",
      "Each clarity like a Eternity, and each one glows;\n",
      "Into the filmy the filmy beads he blows his breath.\n",
      "\n",
      "Old his soul, libraries, boy, all these three\n",
      "Out of the Maya-the Maya-foam of the universe\n",
      "Create the universe Create illusions. them is better or worse.\n",
      "But in each of them the Light of Eternity\n",
      "Sees its deepest subtleties, and burns more joyfully.\n",
      "\n"
     ]
    }
   ],
   "source": [
    "output = []\n",
    "for word in newversion:\n",
    "    if word.is_alpha and word.pos_ == 'NOUN':\n",
    "        new_word = random.choice(chunk_lookup.nearest(word.vector,4))\n",
    "        output.append(new_word)\n",
    "    elif word.is_alpha and word.tag_ == 'ADJ':\n",
    "        new_word = random.choice(adj_lookup.nearest(word.vector, 4))\n",
    "        output.append(new_word)\n",
    "    else:\n",
    "        output.append(word.text)\n",
    "    output.append(word.whitespace_)\n",
    "print(''.join(output))"
   ]
  },
  {
   "cell_type": "code",
   "execution_count": 75,
   "id": "f01f68ab",
   "metadata": {
    "scrolled": true
   },
   "outputs": [
    {
     "data": {
      "text/plain": [
       "['Each praises like a hymn, and each one glows; Into the filmy beads he blows his soul.  ',\n",
       " 'None is better or worse. ',\n",
       " 'But in each of them the Light of Eternity Sees its reflection, and burns more joyfully. ',\n",
       " 'An eager student bent on storming heights Has delved in archives and in libraries, But adds the touch of genius when he writes A first book full of deepest subtleties.  ',\n",
       " 'A boy, with bowl and straw, sits and blows, Filling with breath the bubbles from the bowl. ',\n",
       " 'Old man, student, boy, all these three Out of the Maya-foam of the universe Create illusions.',\n",
       " 'From years of study and of contemplation An old man brews a work of clarity, A gay and involuted dissertation Discoursing on sweet wisdom playfully.  ']"
      ]
     },
     "execution_count": 75,
     "metadata": {},
     "output_type": "execute_result"
    }
   ],
   "source": [
    "sentence_lookup.nearest(nlp(\"Read to me.\").vector)"
   ]
  },
  {
   "cell_type": "code",
   "execution_count": 88,
   "id": "2f161dde",
   "metadata": {},
   "outputs": [
    {
     "name": "stdout",
     "output_type": "stream",
     "text": [
      "'This' not always: ' '\n",
      "'is' not always: ' '\n",
      "'a' not always: ' '\n",
      "'sentence' not always: ''\n",
      "'.' not always: ' '\n",
      "'This' not always: ' '\n",
      "'is' not always: ' '\n",
      "'another' not always: ' '\n",
      "'one' not always: ''\n",
      "'.' not always: ''\n"
     ]
    }
   ],
   "source": [
    "# Process a piece of text\n",
    "doc = nlp(\"This is a sentence. This is another one.\")\n",
    "\n",
    "for token in doc:\n",
    "    print(f\"'{token.text}' not always: '{token.whitespace_}'\")"
   ]
  },
  {
   "cell_type": "markdown",
   "id": "54319909",
   "metadata": {},
   "source": [
    "## - The End -"
   ]
  }
 ],
 "metadata": {
  "kernelspec": {
   "display_name": "Python 3 (ipykernel)",
   "language": "python",
   "name": "python3"
  },
  "language_info": {
   "codemirror_mode": {
    "name": "ipython",
    "version": 3
   },
   "file_extension": ".py",
   "mimetype": "text/x-python",
   "name": "python",
   "nbconvert_exporter": "python",
   "pygments_lexer": "ipython3",
   "version": "3.11.8"
  }
 },
 "nbformat": 4,
 "nbformat_minor": 5
}
