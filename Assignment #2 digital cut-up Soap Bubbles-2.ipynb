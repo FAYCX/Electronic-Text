{
 "cells": [
  {
   "cell_type": "markdown",
   "id": "4a34b055",
   "metadata": {},
   "source": [
    "# Digital Cut-Up "
   ]
  },
  {
   "cell_type": "markdown",
   "id": "6b4dbba1",
   "metadata": {},
   "source": [
    "###  <span style=\"color:green;\"> of the original poem `Soap Bubbles` by Hermann Hesse (1877) </span>"
   ]
  },
  {
   "cell_type": "markdown",
   "id": "8b39a4cd",
   "metadata": {},
   "source": [
    "The first few outcomes represent my experimental digital cut-up version, while the subsequent ones reflect my practice along the way at deepening my understanding of list manipulations in Python syntax."
   ]
  },
  {
   "cell_type": "code",
   "execution_count": 438,
   "id": "f851b196",
   "metadata": {},
   "outputs": [],
   "source": [
    "import random"
   ]
  },
  {
   "cell_type": "code",
   "execution_count": 439,
   "id": "c8a5316c",
   "metadata": {
    "scrolled": true
   },
   "outputs": [
    {
     "name": "stdout",
     "output_type": "stream",
     "text": [
      "From years of study and of contemplation\n",
      "An old man brews a work of clarity,\n",
      "A gay and involuted dissertation\n",
      "Discoursing on sweet wisdom playfully.\n",
      "\n",
      "An eager student bent on storming heights\n",
      "Has delved in archives and in libraries,\n",
      "But adds the touch of genius when he writes\n",
      "A first book full of deepest subtleties.\n",
      "\n",
      "A boy, with bowl and straw, sits and blows,\n",
      "Filling with breath the bubbles from the bowl.\n",
      "Each praises like a hymn, and each one glows;\n",
      "Into the filmy beads he blows his soul.\n",
      "\n",
      "Old man, student, boy, all these three\n",
      "Out of the Maya-foam of the universe\n",
      "Create illusions. None is better or worse.\n",
      "But in each of them the Light of Eternity\n",
      "Sees its reflection, and burns more joyfully.\n",
      "\n"
     ]
    }
   ],
   "source": [
    "text = open(\"Soap Bubbles.txt\").read()\n",
    "print(text)"
   ]
  },
  {
   "cell_type": "code",
   "execution_count": 348,
   "id": "f7e8edbd",
   "metadata": {},
   "outputs": [],
   "source": [
    "new_poem = [line.strip() for line in open(\"Soap Bubbles.txt\")]"
   ]
  },
  {
   "cell_type": "code",
   "execution_count": 440,
   "id": "be7de5c7",
   "metadata": {},
   "outputs": [
    {
     "name": "stdout",
     "output_type": "stream",
     "text": [
      "From years of study and of contemplation\n",
      "Create illusions. None is better or worse.\n",
      "Discoursing on sweet wisdom playfully.\n",
      "\n",
      "\n",
      "A gay and involuted dissertation\n",
      "Into the filmy beads he blows his soul.\n",
      "Each praises like a hymn, and each one glows;\n",
      "Has delved in archives and in libraries,\n",
      "\n",
      "A first book full of deepest subtleties.\n",
      "Filling with breath the bubbles from the bowl.\n",
      "Old man, student, boy, all these three\n",
      "Sees its reflection, and burns more joyfully.\n",
      "A boy, with bowl and straw, sits and blows,\n",
      "An old man brews a work of clarity,\n",
      "But in each of them the Light of Eternity\n",
      "An eager student bent on storming heights\n",
      "Out of the Maya-foam of the universe\n",
      "But adds the touch of genius when he writes\n"
     ]
    }
   ],
   "source": [
    "random.shuffle(new_poem)\n",
    "print((\"\\n\").join(new_poem))"
   ]
  },
  {
   "cell_type": "code",
   "execution_count": 460,
   "id": "c65a59f4",
   "metadata": {},
   "outputs": [
    {
     "name": "stdout",
     "output_type": "stream",
     "text": [
      "FROM YEARS OF STUDY AND OF CONTEMPLATION\n",
      "CREATE ILLUSIONS. NONE IS BETTER OR WORSE.\n",
      "DISCOURSING ON SWEET WISDOM PLAYFULLY.\n",
      "\n",
      "\n",
      "A GAY AND INVOLUTED DISSERTATION\n",
      "   Into the filmy beads he blows his soul.\n",
      "   Each praises like a hymn, and each one glows;\n",
      "HAS DELVED IN ARCHIVES AND IN LIBRARIES,\n",
      "\n",
      "A FIRST BOOK FULL OF DEEPEST SUBTLETIES.\n",
      "FILLING WITH BREATH THE BUBBLES FROM THE BOWL.\n",
      "OLD MAN, STUDENT, BOY, ALL THESE THREE\n",
      "   Sees its reflection, and burns more joyfully.\n",
      "   A boy, with bowl and straw, sits and blows,\n",
      "   An old man brews a work of clarity,\n",
      "   But in each of them the Light of Eternity\n",
      "   An eager student bent on storming heights\n",
      "OUT OF THE MAYA-FOAM OF THE UNIVERSE\n",
      "   But adds the touch of genius when he writes\n"
     ]
    }
   ],
   "source": [
    "for x in new_poem:\n",
    "    if len(x)%2 == 0:\n",
    "        print(x.upper())\n",
    "    else:\n",
    "        print(\"   \" + x)"
   ]
  },
  {
   "cell_type": "code",
   "execution_count": 241,
   "id": "20bf3f9b",
   "metadata": {
    "scrolled": true
   },
   "outputs": [
    {
     "name": "stdout",
     "output_type": "stream",
     "text": [
      "\n",
      "Each praises like a hymn, and each one glows;\n",
      "A first book full of deepest subtleties.\n",
      "\n",
      "A gay and involuted dissertation\n",
      "Discoursing on sweet wisdom playfully.\n",
      "But in each of them the Light of Eternity\n",
      "An eager student bent on storming heights\n",
      "An old man brews a work of clarity,\n",
      "Filling with breath the bubbles from the bowl.\n"
     ]
    }
   ],
   "source": [
    "print((\"\\n\").join(random.sample(new_poem,10)))"
   ]
  },
  {
   "cell_type": "markdown",
   "id": "361c2d68",
   "metadata": {},
   "source": [
    "## <span style=\"color:green;\"> Below is one of the best `digital cut-up` versions from this week so far:</span>"
   ]
  },
  {
   "cell_type": "code",
   "execution_count": 417,
   "id": "42ab6814",
   "metadata": {
    "scrolled": false
   },
   "outputs": [
    {
     "name": "stdout",
     "output_type": "stream",
     "text": [
      "A boy, with bowl and straw, sits and blows,\n",
      "A first book full of deepest subtleties.\n",
      "A gay and involuted dissertation\n",
      "   \n",
      "An eager student bent on storming heights\n",
      "An old man brews a work of clarity,\n",
      "But adds the touch of genius when he writes\n",
      "   \n",
      "But in each of them the Light of Eternity\n",
      "Create illusions. None is better or worse.\n",
      "Discoursing on sweet wisdom playfully.\n",
      "   \n",
      "Each praises like a hymn, and each one glows;\n",
      "Filling with breath the bubbles from the bowl.\n",
      "From years of study and of contemplation\n",
      "   \n",
      "Has delved in archives and in libraries,\n",
      "Into the filmy beads he blows his soul.\n",
      "Old man, student, boy, all these three\n",
      "   \n",
      "Out of the Maya-foam of the universe\n",
      "Sees its reflection, and burns more joyfully.\n"
     ]
    }
   ],
   "source": [
    "cutup = sorted(new_poem)[3:]\n",
    "\n",
    "for i, x in enumerate(cutup, start=1):\n",
    "    print(x)\n",
    "    if i % 3 == 0:\n",
    "        print(\"   \")"
   ]
  },
  {
   "cell_type": "markdown",
   "id": "3a8c5137",
   "metadata": {},
   "source": [
    "## "
   ]
  },
  {
   "cell_type": "markdown",
   "id": "3eecb6ba",
   "metadata": {},
   "source": [
    "## <span style = \"color:purple;\"> A person feeling under the weather might sound like this while reading: </span>"
   ]
  },
  {
   "cell_type": "code",
   "execution_count": 468,
   "id": "0f593dc9",
   "metadata": {
    "scrolled": true
   },
   "outputs": [
    {
     "name": "stdout",
     "output_type": "stream",
     "text": [
      "Froachooooom years oachooooof study and oachooooof coachooooontemplatioachooooon\n",
      "Create illusioachooooons. Noachooooone is better oachooooor woachooooorse.\n",
      "Discoachoooooursing oachooooon sweet wisdoachooooom playfully.\n",
      "\n",
      "\n",
      "A gay and invoachoooooluted dissertatioachooooon\n",
      "Intoachooooo the filmy beads he bloachooooows his soachoooooul.\n",
      "Each praises like a hymn, and each oachooooone gloachooooows;\n",
      "Has delved in archives and in libraries,\n",
      "\n",
      "A first boachooooooachoooook full oachooooof deepest subtleties.\n",
      "Filling with breath the bubbles froachooooom the boachooooowl.\n",
      "Old man, student, boachoooooy, all these three\n",
      "Sees its reflectioachooooon, and burns moachooooore joachoooooyfully.\n",
      "A boachoooooy, with boachooooowl and straw, sits and bloachooooows,\n",
      "An oachooooold man brews a woachooooork oachooooof clarity,\n",
      "But in each oachooooof them the Light oachooooof Eternity\n",
      "An eager student bent oachooooon stoachooooorming heights\n",
      "Out oachooooof the Maya-foachoooooam oachooooof the universe\n",
      "But adds the toachooooouch oachooooof genius when he writes\n"
     ]
    }
   ],
   "source": [
    "achoo = [line.replace(\"o\",\"oachooooo\") for line in new_poem]\n",
    "print((\"\\n\").join(achoo))"
   ]
  },
  {
   "cell_type": "code",
   "execution_count": 253,
   "id": "b3e046a4",
   "metadata": {},
   "outputs": [
    {
     "name": "stdout",
     "output_type": "stream",
     "text": [
      "From years\n",
      "An old man\n",
      "A gay and \n",
      "Discoursin\n",
      "\n",
      "An eager s\n",
      "Has delved\n",
      "But adds t\n",
      "A first bo\n",
      "\n",
      "A boy, wit\n",
      "Filling wi\n",
      "Each prais\n",
      "Into the f\n",
      "\n",
      "Old man, s\n",
      "Out of the\n",
      "Create ill\n",
      "But in eac\n",
      "Sees its r\n"
     ]
    }
   ],
   "source": [
    "print((\"\\n\").join([line[:10] for line in new_poem]))"
   ]
  },
  {
   "cell_type": "code",
   "execution_count": 274,
   "id": "c8b92c3d",
   "metadata": {
    "scrolled": true
   },
   "outputs": [
    {
     "name": "stdout",
     "output_type": "stream",
     "text": [
      "SOAP BUBBLES RULE\n",
      "SOAP BUBBLES RULE\n",
      "SOAP BUBBLES RULE\n",
      "SOAP BUBBLES RULE\n",
      "SOAP BUBBLES RULE\n",
      "SOAP BUBBLES RULE\n",
      "SOAP BUBBLES RULE\n",
      "SOAP BUBBLES RULE\n",
      "SOAP BUBBLES RULE\n",
      "SOAP BUBBLES RULE\n",
      "SOAP BUBBLES RULE\n",
      "SOAP BUBBLES RULE\n",
      "SOAP BUBBLES RULE\n",
      "SOAP BUBBLES RULE\n",
      "SOAP BUBBLES RULE\n",
      "SOAP BUBBLES RULE\n",
      "SOAP BUBBLES RULE\n",
      "SOAP BUBBLES RULE\n",
      "SOAP BUBBLES RULE\n",
      "SOAP BUBBLES RULE\n"
     ]
    }
   ],
   "source": [
    "print((\"\\n\").join([\"Soap bubbles\".upper() + \" RULE\" for line in new_poem]))"
   ]
  },
  {
   "cell_type": "code",
   "execution_count": 272,
   "id": "4f7baa35",
   "metadata": {},
   "outputs": [
    {
     "name": "stdout",
     "output_type": "stream",
     "text": [
      "From yearssssssss of sssssssstudy and of contemplation\n",
      "An old man brewssssssss a work of clarity\n",
      "A gay and involuted dissssssssssssssssertation\n",
      "Disssssssscourssssssssing on ssssssssweet wissssssssdom playfully\n",
      "\n",
      "An eager sssssssstudent bent on sssssssstorming heightssssssss\n",
      "Hassssssss delved in archivessssssss and in librariessssssss\n",
      "But addssssssss the touch of geniussssssss when he writessssssss\n",
      "A firsssssssst book full of deepesssssssst ssssssssubtletiessssssss\n",
      "\n",
      "A boy, with bowl and sssssssstraw, ssssssssitssssssss and blowssssssss\n",
      "Filling with breath the bubblessssssss from the bowl\n",
      "Each praissssssssessssssss like a hymn, and each one glowssssssss\n",
      "Into the filmy beadssssssss he blowssssssss hissssssss ssssssssoul\n",
      "\n",
      "Old man, sssssssstudent, boy, all thesssssssse three\n",
      "Out of the Maya-foam of the universssssssse\n",
      "Create illussssssssionssssssss. None issssssss better or worsssssssse\n",
      "But in each of them the Light of Eternity\n",
      "Seessssssss itssssssss reflection, and burnssssssss more joyfully\n"
     ]
    }
   ],
   "source": [
    "print((\"\\n\").join([line.strip(\".;,\").replace(\"s\",\"ssssssss\") for line in new_poem]))"
   ]
  },
  {
   "cell_type": "code",
   "execution_count": 273,
   "id": "b6cad7e5",
   "metadata": {
    "scrolled": true
   },
   "outputs": [
    {
     "name": "stdout",
     "output_type": "stream",
     "text": [
      "❀ From years of study and of contemplation ❀\n",
      "❀ An old man brews a work of clarity, ❀\n",
      "❀ A gay and involuted dissertation ❀\n",
      "❀ Discoursing on sweet wisdom playfully. ❀\n",
      "❀  ❀\n",
      "❀ An eager student bent on storming heights ❀\n",
      "❀ Has delved in archives and in libraries, ❀\n",
      "❀ But adds the touch of genius when he writes ❀\n",
      "❀ A first book full of deepest subtleties. ❀\n",
      "❀  ❀\n",
      "❀ A boy, with bowl and straw, sits and blows, ❀\n",
      "❀ Filling with breath the bubbles from the bowl. ❀\n",
      "❀ Each praises like a hymn, and each one glows; ❀\n",
      "❀ Into the filmy beads he blows his soul. ❀\n",
      "❀  ❀\n",
      "❀ Old man, student, boy, all these three ❀\n",
      "❀ Out of the Maya-foam of the universe ❀\n",
      "❀ Create illusions. None is better or worse. ❀\n",
      "❀ But in each of them the Light of Eternity ❀\n",
      "❀ Sees its reflection, and burns more joyfully. ❀\n"
     ]
    }
   ],
   "source": [
    "print((\"\\n\").join([\"❀ \" + line + \" ❀\" for line in new_poem]))"
   ]
  },
  {
   "cell_type": "code",
   "execution_count": 275,
   "id": "b314ea75",
   "metadata": {},
   "outputs": [
    {
     "data": {
      "text/plain": [
       "['A gay and involuted dissertation',\n",
       " 'Discoursing on sweet wisdom playfully.',\n",
       " '',\n",
       " 'An eager student bent on storming heights',\n",
       " 'Has delved in archives and in libraries,']"
      ]
     },
     "execution_count": 275,
     "metadata": {},
     "output_type": "execute_result"
    }
   ],
   "source": [
    "new_poem[2:7]"
   ]
  },
  {
   "cell_type": "code",
   "execution_count": 174,
   "id": "5e352d2b",
   "metadata": {},
   "outputs": [
    {
     "data": {
      "text/plain": [
       "['A gayation',\n",
       " 'From ation',\n",
       " 'Into soul.',\n",
       " 'But irnity',\n",
       " 'Out overse',\n",
       " 'A boylows,',\n",
       " 'Each lows;',\n",
       " 'Old mthree',\n",
       " 'Has dries,',\n",
       " '',\n",
       " 'An olrity,',\n",
       " 'Fillibowl.',\n",
       " 'But arites',\n",
       " '',\n",
       " 'Creatorse.',\n",
       " 'Discoully.',\n",
       " 'Sees ully.',\n",
       " '',\n",
       " 'An eaights',\n",
       " 'A firties.']"
      ]
     },
     "execution_count": 174,
     "metadata": {},
     "output_type": "execute_result"
    }
   ],
   "source": [
    "[line[:5] + line[-5:] for line in new_poem]"
   ]
  },
  {
   "cell_type": "code",
   "execution_count": 176,
   "id": "4eccb55e",
   "metadata": {},
   "outputs": [
    {
     "data": {
      "text/plain": [
       "['A gay and involuted dissertation',\n",
       " 'A boy, with bowl and straw, sits and blows,',\n",
       " 'An old man brews a work of clarity,',\n",
       " 'An eager student bent on storming heights',\n",
       " 'A first book full of deepest subtleties.']"
      ]
     },
     "execution_count": 176,
     "metadata": {},
     "output_type": "execute_result"
    }
   ],
   "source": [
    "[line for line in new_poem if line.startswith(\"A\")]"
   ]
  },
  {
   "cell_type": "code",
   "execution_count": 179,
   "id": "a62d246a",
   "metadata": {},
   "outputs": [
    {
     "data": {
      "text/plain": [
       "['Into the filmy beads he blows his soul.',\n",
       " 'But in each of them the Light of Eternity',\n",
       " 'Out of the Maya-foam of the universe',\n",
       " 'Old man, student, boy, all these three',\n",
       " 'Filling with breath the bubbles from the bowl.',\n",
       " 'But adds the touch of genius when he writes']"
      ]
     },
     "execution_count": 179,
     "metadata": {},
     "output_type": "execute_result"
    }
   ],
   "source": [
    "[line for line in new_poem if \"the\" in line]"
   ]
  },
  {
   "cell_type": "code",
   "execution_count": 14,
   "id": "aea0053a",
   "metadata": {},
   "outputs": [
    {
     "name": "stdout",
     "output_type": "stream",
     "text": [
      "FROM YEARS OF STUDY AND OF CONTEMPLATION\n",
      "AN OLD MAN BREWS A WORK OF CLARITY,\n",
      "A GAY AND INVOLUTED DISSERTATION\n",
      "DISCOURSING ON SWEET WISDOM PLAYFULLY.\n",
      "\n",
      "AN EAGER STUDENT BENT ON STORMING HEIGHTS\n",
      "HAS DELVED IN ARCHIVES AND IN LIBRARIES,\n",
      "BUT ADDS THE TOUCH OF GENIUS WHEN HE WRITES\n",
      "A FIRST BOOK FULL OF DEEPEST SUBTLETIES.\n",
      "\n",
      "A BOY, WITH BOWL AND STRAW, SITS AND BLOWS,\n",
      "FILLING WITH BREATH THE BUBBLES FROM THE BOWL.\n",
      "EACH PRAISES LIKE A HYMN, AND EACH ONE GLOWS;\n",
      "INTO THE FILMY BEADS HE BLOWS HIS SOUL.\n",
      "\n",
      "OLD MAN, STUDENT, BOY, ALL THESE THREE\n",
      "OUT OF THE MAYA-FOAM OF THE UNIVERSE\n",
      "CREATE ILLUSIONS. NONE IS BETTER OR WORSE.\n",
      "BUT IN EACH OF THEM THE LIGHT OF ETERNITY\n",
      "SEES ITS REFLECTION, AND BURNS MORE JOYFULLY.\n",
      "\n"
     ]
    }
   ],
   "source": [
    "print(text.upper().replace('\"','-'))"
   ]
  },
  {
   "cell_type": "code",
   "execution_count": 204,
   "id": "67be3f54",
   "metadata": {},
   "outputs": [
    {
     "data": {
      "text/plain": [
       "704"
      ]
     },
     "execution_count": 204,
     "metadata": {},
     "output_type": "execute_result"
    }
   ],
   "source": [
    "len(text)"
   ]
  },
  {
   "cell_type": "code",
   "execution_count": 206,
   "id": "172dc1d7",
   "metadata": {},
   "outputs": [],
   "source": [
    "words_poem = text.split() ##change the string into list"
   ]
  },
  {
   "cell_type": "code",
   "execution_count": 197,
   "id": "aa1be020",
   "metadata": {},
   "outputs": [
    {
     "data": {
      "text/plain": [
       "126"
      ]
     },
     "execution_count": 197,
     "metadata": {},
     "output_type": "execute_result"
    }
   ],
   "source": [
    "len(words_poem)"
   ]
  },
  {
   "cell_type": "code",
   "execution_count": 214,
   "id": "28c9874a",
   "metadata": {},
   "outputs": [
    {
     "data": {
      "text/plain": [
       "['contemplation',\n",
       " 'three',\n",
       " 'Filling',\n",
       " 'its',\n",
       " 'the',\n",
       " 'and',\n",
       " 'like',\n",
       " 'of',\n",
       " 'book',\n",
       " 'But',\n",
       " 'Has',\n",
       " 'with',\n",
       " 'writes',\n",
       " 'the',\n",
       " 'more',\n",
       " 'the',\n",
       " 'subtleties.',\n",
       " 'breath',\n",
       " 'all',\n",
       " 'deepest']"
      ]
     },
     "execution_count": 214,
     "metadata": {},
     "output_type": "execute_result"
    }
   ],
   "source": [
    "random.sample(words_poem,20)"
   ]
  },
  {
   "cell_type": "code",
   "execution_count": 215,
   "id": "78d8b61d",
   "metadata": {},
   "outputs": [
    {
     "data": {
      "text/plain": [
       "True"
      ]
     },
     "execution_count": 215,
     "metadata": {},
     "output_type": "execute_result"
    }
   ],
   "source": [
    "\"bubbles\" in text"
   ]
  },
  {
   "cell_type": "code",
   "execution_count": 219,
   "id": "b4e34c07",
   "metadata": {},
   "outputs": [
    {
     "data": {
      "text/plain": [
       "['contemplation',\n",
       " 'involuted',\n",
       " 'dissertation',\n",
       " 'Discoursing',\n",
       " 'playfully.',\n",
       " 'libraries,',\n",
       " 'subtleties.',\n",
       " 'Maya-foam',\n",
       " 'illusions.',\n",
       " 'reflection,',\n",
       " 'joyfully.']"
      ]
     },
     "execution_count": 219,
     "metadata": {},
     "output_type": "execute_result"
    }
   ],
   "source": [
    "[x for x in words_poem if len(x) > 8]"
   ]
  },
  {
   "cell_type": "code",
   "execution_count": 47,
   "id": "a3a1ca0e",
   "metadata": {},
   "outputs": [
    {
     "data": {
      "text/plain": [
       "list"
      ]
     },
     "execution_count": 47,
     "metadata": {},
     "output_type": "execute_result"
    }
   ],
   "source": [
    "type(words)"
   ]
  },
  {
   "cell_type": "code",
   "execution_count": 220,
   "id": "73510a4c",
   "metadata": {
    "scrolled": true
   },
   "outputs": [
    {
     "data": {
      "text/plain": [
       "'From-years-of-study-and-of-contemplation-An-old-man-brews-a-work-of-clarity,-A-gay-and-involuted-dissertation-Discoursing-on-sweet-wisdom-playfully.-An-eager-student-bent-on-storming-heights-Has-delved-in-archives-and-in-libraries,-But-adds-the-touch-of-genius-when-he-writes-A-first-book-full-of-deepest-subtleties.-A-boy,-with-bowl-and-straw,-sits-and-blows,-Filling-with-breath-the-bubbles-from-the-bowl.-Each-praises-like-a-hymn,-and-each-one-glows;-Into-the-filmy-beads-he-blows-his-soul.-Old-man,-student,-boy,-all-these-three-Out-of-the-Maya-foam-of-the-universe-Create-illusions.-None-is-better-or-worse.-But-in-each-of-them-the-Light-of-Eternity-Sees-its-reflection,-and-burns-more-joyfully.'"
      ]
     },
     "execution_count": 220,
     "metadata": {},
     "output_type": "execute_result"
    }
   ],
   "source": [
    "glue = \"-\"\n",
    "glue.join(words_poem)\n",
    "\n",
    "\"-\".join(words_poem)"
   ]
  },
  {
   "cell_type": "code",
   "execution_count": 221,
   "id": "661a802e",
   "metadata": {
    "scrolled": false
   },
   "outputs": [
    {
     "data": {
      "text/plain": [
       "str"
      ]
     },
     "execution_count": 221,
     "metadata": {},
     "output_type": "execute_result"
    }
   ],
   "source": [
    "type(\" \".join(words_poem))"
   ]
  },
  {
   "cell_type": "code",
   "execution_count": 222,
   "id": "9dbe6a3d",
   "metadata": {
    "scrolled": true
   },
   "outputs": [
    {
     "data": {
      "text/plain": [
       "'Filling writes of archives boy, Each the on Maya-foam of burns and work from An its man, delved A playfully. more each and in boy, heights straw, three blows, None of An A Eternity bowl and is Into the better But worse. Light in of gay bent storming the praises first wisdom involuted But bowl. with dissertation clarity, of each libraries, From and study adds years soul. Sees student Has student, brews a filmy the book and his them like all full hymn, reflection, the a eager he or and illusions. blows of the when he of Create breath subtleties. old sits genius Out in one Old touch contemplation beads A these and of universe sweet of on with the deepest man glows; Discoursing joyfully. bubbles'"
      ]
     },
     "execution_count": 222,
     "metadata": {},
     "output_type": "execute_result"
    }
   ],
   "source": [
    "import random\n",
    "random.shuffle(words_poem)\n",
    "\" \".join(words_poem)"
   ]
  },
  {
   "cell_type": "code",
   "execution_count": 223,
   "id": "ff8c2b48",
   "metadata": {
    "scrolled": true
   },
   "outputs": [
    {
     "name": "stdout",
     "output_type": "stream",
     "text": [
      "['full', 'the', 'Has', 'sweet', 'gay', 'clarity,', 'breath', 'old', 'a', 'its', 'he', 'from', 'An', 'on', 'delved', 'Eternity', 'with', 'he', 'None', 'of', 'these', 'writes', 'study', 'more', 'reflection,', 'them', 'and', 'praises', 'of', 'illusions.', 'each', 'brews', 'the', 'student', 'contemplation', 'in', 'burns', 'From', 'and', 'Discoursing', 'of', 'of', 'sits', 'with', 'of', 'and', 'man', 'the', 'A', 'student,', 'blows,', 'joyfully.', 'Maya-foam', 'playfully.', 'his', 'the', 'subtleties.', 'bent', 'An', 'of', 'of', 'in', 'work', 'and', 'A', 'first', 'on', 'beads', 'and', 'eager', 'bubbles', 'book', 'soul.', 'the', 'filmy', 'and', 'Sees', 'a', 'But', 'or', 'glows;', 'straw,', 'dissertation', 'A', 'heights', 'better', 'the', 'each', 'boy,', 'bowl', 'is', 'Each', 'bowl.', 'one', 'like', 'touch', 'worse.', 'Light', 'Out', 'and', 'blows', 'of', 'genius', 'hymn,', 'when', 'the', 'archives', 'three', 'libraries,', 'storming', 'involuted', 'man,', 'Filling', 'of', 'years', 'wisdom', 'in', 'boy,', 'all', 'Into', 'adds', 'universe', 'Create', 'Old', 'deepest', 'But']\n"
     ]
    }
   ],
   "source": [
    "random.shuffle(words_poem)\n",
    "print(words_poem)"
   ]
  },
  {
   "cell_type": "code",
   "execution_count": 224,
   "id": "e73aec0a",
   "metadata": {},
   "outputs": [
    {
     "data": {
      "text/plain": [
       "'Discoursing'"
      ]
     },
     "execution_count": 224,
     "metadata": {},
     "output_type": "execute_result"
    }
   ],
   "source": [
    "random.choice(words_poem)"
   ]
  },
  {
   "cell_type": "code",
   "execution_count": 225,
   "id": "4ab17763",
   "metadata": {},
   "outputs": [
    {
     "data": {
      "text/plain": [
       "'genius ,and when ,and or ,and glows; ,and Filling ,and and ,and of ,and gay ,and with ,and Create ,and in ,and contemplation ,and them ,and filmy ,and sweet ,and Into ,and Eternity ,and is ,and these ,and brews ,and of ,and on ,and blows ,and he ,and a'"
      ]
     },
     "execution_count": 225,
     "metadata": {},
     "output_type": "execute_result"
    }
   ],
   "source": [
    "\" ,and \".join(random.sample(words_poem,25))"
   ]
  },
  {
   "cell_type": "code",
   "execution_count": null,
   "id": "14e7d86b",
   "metadata": {},
   "outputs": [],
   "source": []
  },
  {
   "cell_type": "code",
   "execution_count": 481,
   "id": "1b35714a",
   "metadata": {},
   "outputs": [
    {
     "name": "stdout",
     "output_type": "stream",
     "text": [
      "full  the  Has  sweet  gay  clarity,  breath  old  a  its  he  from  An  on  delved  Eternity  with  he  None     these  writes  study  more  reflection,  them  and  praises     illusions.  each  brews  the  student  contemplation  in  burns  From  and  Discoursing        sits  with     and  man  the  A  student,  blows,  joyfully.  Maya-foam  playfully.  his  the  subtleties.  bent  An        in  work  and  A  first  on  beads  and  eager  bubbles  book  soul.  the  filmy  and  Sees  a  But  or  glows;  straw,  dissertation  A  heights  better  the  each  boy,  bowl  is  Each  bowl.  one  like  touch  worse.  Light  Out  and  blows     genius  hymn,  when  the  archives  three  libraries,  storming  involuted  man,  Filling     years  wisdom  in  boy,  all  Into  adds  universe  Create  Old  deepest  But\n"
     ]
    }
   ],
   "source": [
    "bird = [line.replace(\"of\", \" \") for line in words_poem]\n",
    "print(\"  \".join(bird))"
   ]
  },
  {
   "cell_type": "code",
   "execution_count": 482,
   "id": "ae87386a",
   "metadata": {},
   "outputs": [
    {
     "data": {
      "text/plain": [
       "['fullfullfull',\n",
       " 'thethethe',\n",
       " 'HasHasHas',\n",
       " 'sweetsweetsweet',\n",
       " 'gaygaygay',\n",
       " 'clarity,clarity,clarity,',\n",
       " 'breathbreathbreath',\n",
       " 'oldoldold',\n",
       " 'aaa',\n",
       " 'itsitsits',\n",
       " 'hehehe',\n",
       " 'fromfromfrom',\n",
       " 'AnAnAn',\n",
       " 'ononon',\n",
       " 'delveddelveddelved',\n",
       " 'EternityEternityEternity',\n",
       " 'withwithwith',\n",
       " 'hehehe',\n",
       " 'NoneNoneNone',\n",
       " 'ofofof',\n",
       " 'thesethesethese',\n",
       " 'writeswriteswrites',\n",
       " 'studystudystudy',\n",
       " 'moremoremore',\n",
       " 'reflection,reflection,reflection,',\n",
       " 'themthemthem',\n",
       " 'andandand',\n",
       " 'praisespraisespraises',\n",
       " 'ofofof',\n",
       " 'illusions.illusions.illusions.',\n",
       " 'eacheacheach',\n",
       " 'brewsbrewsbrews',\n",
       " 'thethethe',\n",
       " 'studentstudentstudent',\n",
       " 'contemplationcontemplationcontemplation',\n",
       " 'ininin',\n",
       " 'burnsburnsburns',\n",
       " 'FromFromFrom',\n",
       " 'andandand',\n",
       " 'DiscoursingDiscoursingDiscoursing',\n",
       " 'ofofof',\n",
       " 'ofofof',\n",
       " 'sitssitssits',\n",
       " 'withwithwith',\n",
       " 'ofofof',\n",
       " 'andandand',\n",
       " 'manmanman',\n",
       " 'thethethe',\n",
       " 'AAA',\n",
       " 'student,student,student,',\n",
       " 'blows,blows,blows,',\n",
       " 'joyfully.joyfully.joyfully.',\n",
       " 'Maya-foamMaya-foamMaya-foam',\n",
       " 'playfully.playfully.playfully.',\n",
       " 'hishishis',\n",
       " 'thethethe',\n",
       " 'subtleties.subtleties.subtleties.',\n",
       " 'bentbentbent',\n",
       " 'AnAnAn',\n",
       " 'ofofof',\n",
       " 'ofofof',\n",
       " 'ininin',\n",
       " 'workworkwork',\n",
       " 'andandand',\n",
       " 'AAA',\n",
       " 'firstfirstfirst',\n",
       " 'ononon',\n",
       " 'beadsbeadsbeads',\n",
       " 'andandand',\n",
       " 'eagereagereager',\n",
       " 'bubblesbubblesbubbles',\n",
       " 'bookbookbook',\n",
       " 'soul.soul.soul.',\n",
       " 'thethethe',\n",
       " 'filmyfilmyfilmy',\n",
       " 'andandand',\n",
       " 'SeesSeesSees',\n",
       " 'aaa',\n",
       " 'ButButBut',\n",
       " 'ororor',\n",
       " 'glows;glows;glows;',\n",
       " 'straw,straw,straw,',\n",
       " 'dissertationdissertationdissertation',\n",
       " 'AAA',\n",
       " 'heightsheightsheights',\n",
       " 'betterbetterbetter',\n",
       " 'thethethe',\n",
       " 'eacheacheach',\n",
       " 'boy,boy,boy,',\n",
       " 'bowlbowlbowl',\n",
       " 'isisis',\n",
       " 'EachEachEach',\n",
       " 'bowl.bowl.bowl.',\n",
       " 'oneoneone',\n",
       " 'likelikelike',\n",
       " 'touchtouchtouch',\n",
       " 'worse.worse.worse.',\n",
       " 'LightLightLight',\n",
       " 'OutOutOut',\n",
       " 'andandand',\n",
       " 'blowsblowsblows',\n",
       " 'ofofof',\n",
       " 'geniusgeniusgenius',\n",
       " 'hymn,hymn,hymn,',\n",
       " 'whenwhenwhen',\n",
       " 'thethethe',\n",
       " 'archivesarchivesarchives',\n",
       " 'threethreethree',\n",
       " 'libraries,libraries,libraries,',\n",
       " 'stormingstormingstorming',\n",
       " 'involutedinvolutedinvoluted',\n",
       " 'man,man,man,',\n",
       " 'FillingFillingFilling',\n",
       " 'ofofof',\n",
       " 'yearsyearsyears',\n",
       " 'wisdomwisdomwisdom',\n",
       " 'ininin',\n",
       " 'boy,boy,boy,',\n",
       " 'allallall',\n",
       " 'IntoIntoInto',\n",
       " 'addsaddsadds',\n",
       " 'universeuniverseuniverse',\n",
       " 'CreateCreateCreate',\n",
       " 'OldOldOld',\n",
       " 'deepestdeepestdeepest',\n",
       " 'ButButBut']"
      ]
     },
     "execution_count": 482,
     "metadata": {},
     "output_type": "execute_result"
    }
   ],
   "source": [
    "[x*3 for x in words_poem]"
   ]
  },
  {
   "cell_type": "code",
   "execution_count": 420,
   "id": "7c2d6374",
   "metadata": {},
   "outputs": [
    {
     "data": {
      "text/plain": [
       "['breath',\n",
       " 'brews',\n",
       " 'burns',\n",
       " 'blows,',\n",
       " 'bent',\n",
       " 'beads',\n",
       " 'bubbles',\n",
       " 'book',\n",
       " 'better',\n",
       " 'boy,',\n",
       " 'bowl',\n",
       " 'bowl.',\n",
       " 'blows',\n",
       " 'boy,']"
      ]
     },
     "execution_count": 420,
     "metadata": {},
     "output_type": "execute_result"
    }
   ],
   "source": [
    "[x for x in words_poem if x.startswith(\"b\")]"
   ]
  },
  {
   "cell_type": "code",
   "execution_count": 423,
   "id": "3799d375",
   "metadata": {},
   "outputs": [
    {
     "data": {
      "text/plain": [
       "['green', 'blue', 'white', 'black']"
      ]
     },
     "execution_count": 423,
     "metadata": {},
     "output_type": "execute_result"
    }
   ],
   "source": [
    "colors = [\"red\",\"green\",\"blue\",\"white\",\"black\"]\n",
    "colors.remove(\"red\")\n",
    "colors"
   ]
  },
  {
   "cell_type": "code",
   "execution_count": 424,
   "id": "48a88e91",
   "metadata": {},
   "outputs": [
    {
     "data": {
      "text/plain": [
       "['green', 'white', 'black']"
      ]
     },
     "execution_count": 424,
     "metadata": {},
     "output_type": "execute_result"
    }
   ],
   "source": [
    "colors.pop(1)\n",
    "colors"
   ]
  },
  {
   "cell_type": "code",
   "execution_count": 425,
   "id": "da6691b8",
   "metadata": {},
   "outputs": [
    {
     "name": "stdout",
     "output_type": "stream",
     "text": [
      "1 green\n",
      "2 white\n",
      "3 black\n"
     ]
    }
   ],
   "source": [
    "for i, x in enumerate(colors,start=1):\n",
    "    print(i,x)"
   ]
  },
  {
   "cell_type": "markdown",
   "id": "e7c855b9",
   "metadata": {},
   "source": [
    "### practice the function enumerate(list, start=index)"
   ]
  },
  {
   "cell_type": "markdown",
   "id": "ca61c91d",
   "metadata": {},
   "source": [
    "## "
   ]
  },
  {
   "cell_type": "code",
   "execution_count": 332,
   "id": "9afd302a",
   "metadata": {
    "scrolled": true
   },
   "outputs": [
    {
     "data": {
      "text/plain": [
       "['From years of study and of contemplation',\n",
       " 'Discoursing on sweet wisdom playfully.',\n",
       " 'A first book full of deepest subtleties.',\n",
       " '',\n",
       " 'A boy, with bowl and straw, sits and blows,',\n",
       " 'Filling with breath the bubbles from the bowl.',\n",
       " 'Each praises like a hymn, and each one glows;',\n",
       " 'Into the filmy beads he blows his soul.',\n",
       " '',\n",
       " 'Old man, student, boy, all these three',\n",
       " 'Out of the Maya-foam of the universe',\n",
       " 'Create illusions. None is better or worse.',\n",
       " 'But in each of them the Light of Eternity',\n",
       " 'Sees its reflection, and burns more joyfully.']"
      ]
     },
     "execution_count": 332,
     "metadata": {},
     "output_type": "execute_result"
    }
   ],
   "source": [
    "new_poem.pop(2)\n",
    "new_poem"
   ]
  },
  {
   "cell_type": "code",
   "execution_count": 436,
   "id": "3605d3bf",
   "metadata": {},
   "outputs": [
    {
     "name": "stdout",
     "output_type": "stream",
     "text": [
      "MAYA-FOAM\n",
      "AND\n",
      "SWEET\n",
      "BUT\n",
      "AND\n",
      "EACH\n",
      "EACH\n",
      "AN\n",
      "THE\n",
      "FROM\n",
      "EAGER\n",
      "A\n",
      "SITS\n",
      "THE\n",
      "UNIVERSE\n",
      "AND\n",
      "DISSERTATION\n",
      "WRITES\n",
      "GLOWS;\n",
      "INVOLUTED\n",
      "AND\n",
      "OF\n",
      "FULL\n",
      "HE\n",
      "A\n",
      "GENIUS\n",
      "MAN\n",
      "IS\n",
      "THE\n",
      "OLD\n",
      "DELVED\n",
      "BEADS\n",
      "STORMING\n",
      "LIKE\n",
      "YEARS\n",
      "SUBTLETIES.\n",
      "GAY\n",
      "HE\n",
      "REFLECTION,\n",
      "MORE\n",
      "AND\n",
      "JOYFULLY.\n",
      "STUDENT,\n",
      "CLARITY,\n",
      "BOY,\n",
      "ON\n",
      "CONTEMPLATION\n",
      "OF\n",
      "OF\n",
      "OF\n",
      "OF\n",
      "BUT\n",
      "IN\n",
      "LIBRARIES,\n",
      "STUDY\n",
      "BLOWS,\n",
      "OF\n",
      "BURNS\n",
      "THE\n",
      "WITH\n",
      "DEEPEST\n",
      "BETTER\n",
      "THESE\n",
      "FIRST\n",
      "ON\n",
      "ILLUSIONS.\n",
      "BENT\n",
      "NONE\n",
      "THE\n",
      "WORSE.\n",
      "HIS\n",
      "AN\n",
      "HEIGHTS\n",
      "AND\n",
      "THE\n",
      "OF\n",
      "HYMN,\n",
      "BREATH\n",
      "TOUCH\n",
      "INTO\n",
      "ARCHIVES\n",
      "ALL\n",
      "LIGHT\n",
      "CREATE\n",
      "ONE\n",
      "STUDENT\n",
      "BUBBLES\n",
      "ADDS\n",
      "EACH\n",
      "STRAW,\n",
      "SOUL.\n",
      "FILLING\n",
      "BREWS\n",
      "WISDOM\n",
      "BOOK\n",
      "DISCOURSING\n",
      "ETERNITY\n",
      "THREE\n",
      "OF\n",
      "FILMY\n",
      "A\n",
      "WITH\n",
      "THE\n",
      "BOWL\n",
      "PRAISES\n",
      "OF\n",
      "AND\n",
      "BOWL.\n",
      "THEM\n",
      "A\n",
      "IN\n",
      "MAN,\n",
      "OR\n",
      "ITS\n",
      "BLOWS\n",
      "A\n",
      "PLAYFULLY.\n",
      "OUT\n",
      "BOY,\n",
      "IN\n",
      "WHEN\n"
     ]
    }
   ],
   "source": [
    "for x in words:\n",
    "     y = x.upper()\n",
    "     print(y)\n",
    "    "
   ]
  },
  {
   "cell_type": "code",
   "execution_count": 437,
   "id": "34db8eef",
   "metadata": {
    "scrolled": true
   },
   "outputs": [
    {
     "name": "stdout",
     "output_type": "stream",
     "text": [
      "0\n",
      "2\n",
      "4\n",
      "6\n",
      "8\n",
      "10\n",
      "12\n",
      "14\n",
      "16\n",
      "18\n"
     ]
    }
   ],
   "source": [
    "numbers = []\n",
    "for x in range(20):\n",
    "    if x%2 == 0:\n",
    "        print(x)"
   ]
  },
  {
   "cell_type": "markdown",
   "id": "7eac43d7",
   "metadata": {},
   "source": [
    "##"
   ]
  },
  {
   "cell_type": "code",
   "execution_count": 458,
   "id": "3372d633",
   "metadata": {},
   "outputs": [
    {
     "name": "stdout",
     "output_type": "stream",
     "text": [
      "From yeaaaaaaaaaars of studddddddddy aaaaaaaaaanddddddddd of cccccccccontemplaaaaaaaaaation\n",
      "Creaaaaaaaaaate illusions. None is bbbbbbbetter or worse.\n",
      "Discccccccccoursing on sweet wisdddddddddom plaaaaaaaaaayfully.\n",
      "\n",
      "\n",
      "A gaaaaaaaaaay aaaaaaaaaanddddddddd involuteddddddddd dddddddddissertaaaaaaaaaation\n",
      "Into the filmy bbbbbbbeaaaaaaaaaaddddddddds he bbbbbbblows his soul.\n",
      "Eaaaaaaaaaaccccccccch praaaaaaaaaaises like aaaaaaaaaa hymn, aaaaaaaaaanddddddddd eaaaaaaaaaaccccccccch one glows;\n",
      "Haaaaaaaaaas dddddddddelveddddddddd in aaaaaaaaaarccccccccchives aaaaaaaaaanddddddddd in libbbbbbbraaaaaaaaaaries,\n",
      "\n",
      "A first bbbbbbbook full of dddddddddeepest subbbbbbbtleties.\n",
      "Filling with bbbbbbbreaaaaaaaaaath the bbbbbbbubbbbbbbbbbbbbbles from the bbbbbbbowl.\n",
      "Olddddddddd maaaaaaaaaan, studddddddddent, bbbbbbboy, aaaaaaaaaall these three\n",
      "Sees its refleccccccccction, aaaaaaaaaanddddddddd bbbbbbburns more joyfully.\n",
      "A bbbbbbboy, with bbbbbbbowl aaaaaaaaaanddddddddd straaaaaaaaaaw, sits aaaaaaaaaanddddddddd bbbbbbblows,\n",
      "An olddddddddd maaaaaaaaaan bbbbbbbrews aaaaaaaaaa work of ccccccccclaaaaaaaaaarity,\n",
      "But in eaaaaaaaaaaccccccccch of them the Light of Eternity\n",
      "An eaaaaaaaaaager studddddddddent bbbbbbbent on storming heights\n",
      "Out of the Maaaaaaaaaayaaaaaaaaaa-foaaaaaaaaaam of the universe\n",
      "But aaaaaaaaaadddddddddddddddddds the touccccccccch of genius when he writes\n"
     ]
    }
   ],
   "source": [
    "w = [line.replace(\"a\",\"aaaaaaaaaa\").replace(\"b\",\"bbbbbbb\").replace(\"c\",\"ccccccccc\").replace(\"d\",\"ddddddddd\") for line in new_poem]\n",
    "print(\"\\n\".join(w).strip()) \n",
    "\n"
   ]
  },
  {
   "cell_type": "markdown",
   "id": "54319909",
   "metadata": {},
   "source": [
    "## - The End -"
   ]
  }
 ],
 "metadata": {
  "kernelspec": {
   "display_name": "Python 3 (ipykernel)",
   "language": "python",
   "name": "python3"
  },
  "language_info": {
   "codemirror_mode": {
    "name": "ipython",
    "version": 3
   },
   "file_extension": ".py",
   "mimetype": "text/x-python",
   "name": "python",
   "nbconvert_exporter": "python",
   "pygments_lexer": "ipython3",
   "version": "3.11.5"
  }
 },
 "nbformat": 4,
 "nbformat_minor": 5
}
