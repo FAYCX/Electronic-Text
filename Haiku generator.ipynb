{
 "cells": [
  {
   "cell_type": "markdown",
   "id": "fcfc6b28",
   "metadata": {},
   "source": [
    "# <span style=\"color:darkgreen\">The Genre Study in Haiku</span>\n",
    "\n",
    "#### Assignment #3  by Fay Cai"
   ]
  },
  {
   "cell_type": "markdown",
   "id": "c2b79c2e",
   "metadata": {},
   "source": [
    "After briefly go throught all different kinds of genre types in poetry, I decided to choose 'Haiku' as part of my electronical and experimental poetry journey for this week's assignment. Haiku is a form of Japanese poetry that is known for its brevity and focus on capturing moments from nature or everyday life. Here are some key characteristics and elements of haiku:\n",
    "\n",
    "* <span style=\"color:purple\">Structure</span>: Traditional haiku consists of three lines with a syllable pattern of 5-7-5. However, contemporary haiku writers may not strictly adhere to this syllable count, focusing instead on conveying a sense of immediacy and clarity.\n",
    "\n",
    "* <span style=\"color:purple\">Seasonal Reference (Kigo)</span>: Haiku often includes a seasonal word or reference (known as a kigo) that indicates the time of year or the season in which the poem is set. These seasonal words help to ground the poem in nature and evoke a specific mood or atmosphere.\n",
    "\n",
    "* <span style=\"color:purple\">Nature Imagery</span>: Haiku typically features vivid and evocative imagery drawn from the natural world. This imagery can include references to landscapes, weather, plants, animals, or natural phenomena.\n",
    "\n",
    "* <span style=\"color:purple\">Sensory Language</span>: Haiku often appeals to the reader's senses, capturing fleeting moments with concise and sensory-rich language. The goal is to create a vivid and immersive experience that allows readers to connect deeply with the poem.\n",
    "\n",
    "* <span style=\"color:purple\">Moment of Insight (Kireji)</span>: Haiku often includes a \"cutting word\" (kireji) or a pause that creates a sense of juxtaposition or contrast within the poem. This moment of insight or revelation encourages readers to pause and reflect on the deeper meaning or significance of the poem.\n",
    "\n",
    "* <span style=\"color:purple\">Simplicity and Elegance</span>: Haiku is characterized by its simplicity and elegance, with each word carefully chosen to evoke meaning and emotion. The brevity of the form encourages writers to distill their thoughts and observations into a few carefully crafted lines.\n"
   ]
  },
  {
   "cell_type": "markdown",
   "id": "e4a2ecd9",
   "metadata": {},
   "source": [
    "The words I deliberately chose for the generator focus on nature, emotion, sensory experiences, and seasonal imagery in general. What I discovered throughout the entire process also applies to the nature of our physical world; simplicity reigns, and less is more. In this case, especially within the genre I selected, known for its brevity and profound sentiment. Minimizing the number of grammar rules in the code aligns more closely with human cognition in a general sense and leads to better computational results.\n",
    "\n",
    "At the end of this week's exploration, I've managed to compute three sections of Haiku with space lines in between. However, I'm still struggling with how to adhere to the strict 5-7-5 format, which is the classic syllable pattern of Haiku. Below are a few Haiku poems presented by me and my generator:"
   ]
  },
  {
   "cell_type": "markdown",
   "id": "ebfe9930",
   "metadata": {},
   "source": [
    "## Haiku Poems"
   ]
  },
  {
   "cell_type": "markdown",
   "id": "f2b74bbe",
   "metadata": {},
   "source": [
    "     -  \n",
    "     A holiday listen over a laughter\n",
    "     A spring sit\n",
    "     A summer glance\n",
    "\n",
    "     - \n",
    "     The watermelon that cry lay down          \n",
    "     The holiday that listen cry\n",
    "     river smile\n",
    "     \n",
    "     -\n",
    "     Cherry blossom on love lay down\n",
    "     Tranquil on love cry on love\n",
    "     Laughter beyond cherry blossom embrace\n",
    "\n",
    "     -\n",
    "     Winter embrace river under serenity\n",
    "     Love illuminate tranquil along serenity beneath sparrow\n",
    "     Summer envelop\n",
    "     \n",
    "     -\n",
    "     Love along dewdrop whisper\n",
    "     Glimmer sit along fragrance\n",
    "     River smile letter beneath sparrow\n",
    "     \n",
    "     -\n",
    "     Love dance\n",
    "     Dewdrop echo under meadow\n",
    "     Silent dawn dance\n",
    "     \n",
    "     -\n",
    "     Laughter move on a harmony beside summer\n",
    "     Meadow lay down on cherry blossom beyond spring\n",
    "     Dawn hug on golden serenity\n",
    "     \n",
    "     -\n",
    "     Sparrow whisper\n",
    "     Under fragrance drift along fleeting breeze in under autumn\n",
    "     Fleeting dawn envelop beyond enchanted whispering\n",
    "\n",
    "     Meadow yield beyond on laughter\n",
    "     A winter against breeze move on under spring on on breeze\n",
    "     A dawn beyond house wander in in meadow\n",
    "\n",
    "     Fleeting winter listen beside along fragrance\n",
    "     Meadow yield along in fragrance beneath beneath moonbeam\n",
    "     Moonbeam sit along cherry blossom"
   ]
  },
  {
   "cell_type": "markdown",
   "id": "687f3fe7",
   "metadata": {},
   "source": [
    "# Haiku Generator"
   ]
  },
  {
   "cell_type": "code",
   "execution_count": 5,
   "id": "a00fb176",
   "metadata": {},
   "outputs": [],
   "source": [
    "import tracery"
   ]
  },
  {
   "cell_type": "code",
   "execution_count": 6,
   "id": "c336228a",
   "metadata": {},
   "outputs": [],
   "source": [
    "from tracery.modifiers import base_english"
   ]
  },
  {
   "cell_type": "code",
   "execution_count": 13,
   "id": "099c92d8",
   "metadata": {},
   "outputs": [
    {
     "name": "stdout",
     "output_type": "stream",
     "text": [
      "The watermelon that cry lay down\n",
      "The holiday that listen cry\n",
      "A river smile\n"
     ]
    }
   ],
   "source": [
    "rule = {\n",
    "    \"origin\" : \"#nounphrase.capitalize# #verbphrase#\",\n",
    "    \"nounphrase\" : [\"#noun.a#\",\"#noun.a#\",\"the #noun# that #verb#\",\"the #noun# #prep# #nounphrase#\"],\n",
    "    \"verbphrase\" : [\"#verb#\",\"#verb#\",\"#verb# #nounphrase#\",\"#verb# #prep# #nounphrase#\"],\n",
    "    \"noun\":[\"summer\",\"winter\",\"spring\",\"autumn\",\"holiday\",\"watermelon\",\"laughter\",\"love\",\"letter\",\"river\"],\n",
    "    \"verb\":[\"across\",\"move\",\"bite\",\"listen\",\"glance\",\"sit\",\"lay down\",\"smile\",\"cry\"],\n",
    "    \"prep\":[\"in\",\"over\",\"on\",\"against\"]\n",
    "}\n",
    "grammar = tracery.Grammar(rule)\n",
    "grammar.add_modifiers(base_english)\n",
    "for i in range(3):\n",
    "    print(grammar.flatten(\"#origin#\"))\n",
    "\n"
   ]
  },
  {
   "cell_type": "code",
   "execution_count": 14,
   "id": "61914b02",
   "metadata": {},
   "outputs": [
    {
     "name": "stdout",
     "output_type": "stream",
     "text": [
      "A holiday listen over a laughter\n",
      "A spring sit\n",
      "A summer glance\n"
     ]
    }
   ],
   "source": [
    "rule = {\n",
    "    \"origin\" : \"#nounphrase.capitalize# #verbphrase#\",\n",
    "    \"nounphrase\" : [\"#noun.a#\",\"#noun.a#\",\"the #noun# that #verb#\",\"the #noun# #prep# #nounphrase#\"],\n",
    "    \"verbphrase\" : [\"#verb#\",\"#verb#\",\"#verb# #nounphrase#\",\"#verb# #prep# #nounphrase#\"],\n",
    "    \"noun\":[\"summer\",\"winter\",\"spring\",\"autumn\",\"holiday\",\"watermelon\",\"laughter\",\"love\",\"letter\",\"river\"],\n",
    "    \"verb\":[\"across\",\"move\",\"bite\",\"listen\",\"glance\",\"sit\",\"lay down\",\"smile\",\"cry\"],\n",
    "    \"prep\":[\"in\",\"over\",\"on\",\"against\"]\n",
    "}\n",
    "grammar = tracery.Grammar(rule)\n",
    "grammar.add_modifiers(base_english)\n",
    "for i in range(3):\n",
    "    print(grammar.flatten(\"#origin#\"))"
   ]
  },
  {
   "cell_type": "code",
   "execution_count": 37,
   "id": "04a943a5",
   "metadata": {},
   "outputs": [
    {
     "name": "stdout",
     "output_type": "stream",
     "text": [
      "Cherry blossom on love lay down\n",
      "Tranquil on love cry on love\n",
      "Laughter beyond cherry blossom embrace\n"
     ]
    }
   ],
   "source": [
    "rule = {\n",
    "    \"origin\": \"#line1#\\n#line2#\\n#line3#\",\n",
    "    \"line1\": \"#nounphrase.capitalize# #verbphrase#\",\n",
    "    \"line2\": \"#nounphrase.capitalize# #verbphrase# #prep# #nounphrase#\",\n",
    "    \"line3\": \"#nounphrase.capitalize# #verbphrase#\",\n",
    "    \"nounphrase\": [\"#noun#\", \"#noun# #prep# #noun#\"],\n",
    "    \"verbphrase\": [\"#verb# #nounphrase#\", \"#verb#\"],\n",
    "    \"noun\": [\"cherry blossom\",\"fragrance\",\"tranquil\",\"serenity\",\"sparrow\",\"glimmer\",\"dewdrop\",\"breeze\",\n",
    "             \"summer\", \"winter\", \"spring\", \"autumn\", \"holiday\", \"watermelon\", \"laughter\", \"love\", \"letter\", \"river\"],\n",
    "    \"verb\": [\"drift\",\"echo\",\"embrace\",\"illuminate\",\"linger\",\"whisper\", \"move\", \"bite\", \"listen\",\n",
    "             \"glance\", \"sit\", \"lay down\", \"smile\", \"cry\",\"envelop\"],\n",
    "    \"prep\": [\"beneath\", \"beyond\", \"in\", \"beside\", \"amidst\", \"along\" , \"on\", \"against\"]\n",
    "}\n",
    "\n",
    "grammar = tracery.Grammar(rule)\n",
    "grammar.add_modifiers(base_english)\n",
    "\n",
    "print(grammar.flatten(\"#origin#\"))"
   ]
  },
  {
   "cell_type": "code",
   "execution_count": 47,
   "id": "e44c2756",
   "metadata": {
    "scrolled": true
   },
   "outputs": [
    {
     "name": "stdout",
     "output_type": "stream",
     "text": [
      "Winter embrace river under serenity\n",
      "Love illuminate tranquil along serenity beneath sparrow\n",
      "Summer envelop\n"
     ]
    }
   ],
   "source": [
    "rule = {\n",
    "    \"origin\": \"#line1#\\n#line2#\\n#line3#\",\n",
    "    \"line1\": \"#nounphrase.capitalize# #verbphrase#\",\n",
    "    \"line2\": \"#nounphrase.capitalize# #verbphrase# #prep# #nounphrase#\",\n",
    "    \"line3\": \"#nounphrase.capitalize# #verbphrase#\",\n",
    "    \"nounphrase\": [\"#noun#\", \"#noun# #prep# #noun#\"],\n",
    "    \"verbphrase\": [\"#verb# #nounphrase#\", \"#verb#\"],\n",
    "    \"noun\": [\"cherry blossom\",\"fragrance\",\"tranquil\",\"serenity\",\"sparrow\",\"glimmer\",\"dewdrop\",\"breeze\",\n",
    "             \"summer\", \"winter\", \"spring\", \"autumn\", \"holiday\", \"laughter\", \"love\", \"letter\", \"river\"],\n",
    "    \"verb\": [\"drift\",\"echo\",\"embrace\",\"illuminate\",\"linger\",\"whisper\", \"move\", \"bite\", \"listen\",\n",
    "             \"glance\", \"sit\", \"lay down\", \"smile\", \"cry\",\"envelop\"],\n",
    "    \"prep\": [\"beneath\", \"beyond\", \"in\", \"beside\", \"under\", \"along\" , \"on\", \"against\"]\n",
    "}\n",
    "\n",
    "grammar = tracery.Grammar(rule)\n",
    "grammar.add_modifiers(base_english)\n",
    "\n",
    "print(grammar.flatten(\"#origin#\"))"
   ]
  },
  {
   "cell_type": "code",
   "execution_count": 61,
   "id": "1aed2a69",
   "metadata": {
    "scrolled": true
   },
   "outputs": [
    {
     "name": "stdout",
     "output_type": "stream",
     "text": [
      "Love along dewdrop whisper\n",
      "Glimmer sit along fragrance\n",
      "River smile letter beneath sparrow\n"
     ]
    }
   ],
   "source": [
    "rule = {\n",
    "    \"origin\": \"#line1#\\n#line2#\\n#line3#\",\n",
    "    \"line1\": \"#nounphrase.capitalize# #verbphrase#\",\n",
    "    \"line2\": \"#nounphrase.capitalize# #verbphrase# #prep# #nounphrase#\",\n",
    "    \"line3\": \"#nounphrase.capitalize# #verbphrase#\",\n",
    "    \"nounphrase\": [\"#noun#\", \"#noun# #prep# #noun#\"],\n",
    "    \"verbphrase\": [\"#verb# #nounphrase#\", \"#verb#\"],\n",
    "    \"noun\": [\"twilight\",\"meadow\",\"moonbeam\",\"cherry blossom\",\"fragrance\",\"tranquil\",\"serenity\",\"sparrow\",\"glimmer\",\"dewdrop\",\"breeze\",\n",
    "             \"summer\", \"winter\", \"spring\", \"autumn\", \"holiday\", \"laughter\", \"love\", \"letter\", \"river\",\"whispering\",\n",
    "            \"harmony\",\"dawn\"],\n",
    "    \"verb\": [\"drift\",\"echo\",\"embrace\",\"illuminate\",\"linger\",\"whisper\", \"move\", \"bite\", \"listen\",\n",
    "             \"glance\", \"sit\", \"lay down\", \"smile\", \"cry\",\"envelop\",\"enchant\",\"dream\",\"yield\",\"dance\",\"wander\",\"hug\"],\n",
    "    \"prep\": [\"beneath\", \"beyond\", \"in\", \"beside\", \"under\", \"along\" , \"on\", \"against\"]\n",
    "}\n",
    "\n",
    "grammar = tracery.Grammar(rule)\n",
    "grammar.add_modifiers(base_english)\n",
    "\n",
    "print(grammar.flatten(\"#origin#\"))"
   ]
  },
  {
   "cell_type": "code",
   "execution_count": 99,
   "id": "0f88f9f2",
   "metadata": {
    "scrolled": true
   },
   "outputs": [
    {
     "name": "stdout",
     "output_type": "stream",
     "text": [
      "Love dance\n",
      "Dewdrop echo under meadow\n",
      "Silent dawn dance\n"
     ]
    }
   ],
   "source": [
    "rule = {\n",
    "    \"origin\": \"#line1#\\n#line2#\\n#line3#\",\n",
    "    \"line1\": \"#nounphrase.capitalize# #verbphrase#\",\n",
    "    \"line2\": \"#nounphrase.capitalize# #verbphrase# #prep# #nounphrase#\",\n",
    "    \"line3\": \"#nounphrase.capitalize# #verbphrase#\",\n",
    "    \"nounphrase\": [\"#noun.a# #prep# #noun#\", \"#noun#\", \"#adj# #noun#\", \n",
    "                   \"#prep# #noun#\"],\n",
    "    \"verbphrase\": [\"#verb#\", \"#verb# #prep# #nounphrase#\"],\n",
    "    \"noun\": [\"twilight\",\"meadow\",\"moonbeam\",\"cherry blossom\",\"fragrance\",\"tranquility\",\"serenity\",\"sparrow\",\n",
    "             \"glimmer\",\"dewdrop\",\"breeze\",\n",
    "             \"summer\", \"winter\", \"spring\", \"autumn\", \"holiday\", \"laughter\", \n",
    "             \"love\", \"letter\", \"river\",\"whispering\",\n",
    "            \"harmony\",\"dawn\"],\n",
    "    \"verb\": [\"drift\",\"echo\",\"embrace\",\"illuminate\",\"linger\",\"whisper\", \"move\", \"listen\",\n",
    "             \"glance\", \"sit\", \"lay down\", \"smile\", \"cry\",\"envelop\",\"enchant\",\"dream\",\"yield\",\n",
    "             \"dance\",\"wander\",\"hug\"],\n",
    "    \"prep\": [\"beneath\", \"beyond\", \"in\", \"beside\", \"under\", \"along\" , \"on\", \"against\"],\n",
    "    \"adj\": [\"gentle\", \"golden\", \"enchanted\", \"silent\", \"mystic\", \"fleeting\", \"whispering\",\n",
    "            \"fragrant\", \"tranquil\"]\n",
    "}\n",
    "\n",
    "grammar = tracery.Grammar(rule)\n",
    "grammar.add_modifiers(base_english)\n",
    "print(grammar.flatten(\"#origin#\"))"
   ]
  },
  {
   "cell_type": "code",
   "execution_count": 103,
   "id": "77bdd8bb",
   "metadata": {},
   "outputs": [
    {
     "name": "stdout",
     "output_type": "stream",
     "text": [
      "Laughter move on a harmony beside summer\n",
      "Meadow lay down on cherry blossom beyond spring\n",
      "Dawn hug on golden serenity\n"
     ]
    }
   ],
   "source": [
    "rule = {\n",
    "    \"origin\": \"#line1#\\n#line2#\\n#line3#\",\n",
    "    \"line1\": \"#nounphrase.capitalize# #verbphrase#\",\n",
    "    \"line2\": \"#nounphrase.capitalize# #verbphrase# #prep# #nounphrase#\",\n",
    "    \"line3\": \"#nounphrase.capitalize# #verbphrase#\",\n",
    "    \"nounphrase\": [\"#noun.a# #prep# #noun#\", \"#noun#\", \"#adj# #noun#\", \n",
    "                   \"#prep# #noun#\"],\n",
    "    \"verbphrase\": [\"#verb#\", \"#verb# #prep# #nounphrase#\"],\n",
    "    \"noun\": [\"twilight\",\"meadow\",\"moonbeam\",\"cherry blossom\",\"fragrance\",\"tranquility\",\"serenity\",\"sparrow\",\n",
    "             \"glimmer\",\"dewdrop\",\"breeze\",\n",
    "             \"summer\", \"winter\", \"spring\", \"autumn\", \"holiday\", \"laughter\", \n",
    "             \"love\", \"letter\", \"river\",\"whispering\",\n",
    "            \"harmony\",\"dawn\"],\n",
    "    \"verb\": [\"drift\",\"echo\",\"embrace\",\"illuminate\",\"linger\",\"whisper\", \"move\", \"listen\",\n",
    "             \"glance\", \"sit\", \"lay down\", \"smile\", \"cry\",\"envelop\",\"enchant\",\"dream\",\"yield\",\n",
    "             \"dance\",\"wander\",\"hug\"],\n",
    "    \"prep\": [\"beneath\", \"beyond\", \"in\", \"beside\", \"under\", \"along\" , \"on\", \"against\"],\n",
    "    \"adj\": [\"gentle\", \"golden\", \"enchanted\", \"silent\", \"mystic\", \"fleeting\", \"whispering\",\n",
    "            \"fragrant\", \"tranquil\"]\n",
    "}\n",
    "\n",
    "grammar = tracery.Grammar(rule)\n",
    "grammar.add_modifiers(base_english)\n",
    "print(grammar.flatten(\"#origin#\"))"
   ]
  },
  {
   "cell_type": "code",
   "execution_count": 120,
   "id": "14400473",
   "metadata": {
    "scrolled": true
   },
   "outputs": [
    {
     "name": "stdout",
     "output_type": "stream",
     "text": [
      "Sparrow whisper\n",
      "Under fragrance drift along fleeting breeze in under autumn\n",
      "Fleeting dawn envelop beyond enchanted whispering\n",
      "\n",
      "Meadow yield beyond on laughter\n",
      "A winter against breeze move on under spring on on breeze\n",
      "A dawn beyond house wander in in meadow\n",
      "\n",
      "Fleeting winter listen beside along fragrance\n",
      "Meadow yield along in fragrance beneath beneath moonbeam\n",
      "Moonbeam sit along cherry blossom\n",
      "\n"
     ]
    }
   ],
   "source": [
    "rule = {\n",
    "    \"origin\": \"#line1#\\n#line2#\\n#line3#\",\n",
    "    \"line1\": \"#nounphrase.capitalize# #verbphrase#\",\n",
    "    \"line2\": \"#nounphrase.capitalize# #verbphrase# #prep# #nounphrase#\",\n",
    "    \"line3\": \"#nounphrase.capitalize# #verbphrase#\",\n",
    "    \"nounphrase\": [\"#noun.a# #prep# #noun#\", \"#noun#\", \"#adj# #noun#\", \n",
    "                   \"#prep# #noun#\"],\n",
    "    \"verbphrase\": [\"#verb#\", \"#verb# #prep# #nounphrase#\"],\n",
    "    \"noun\": [\"twilight\",\"meadow\",\"moonbeam\",\"cherry blossom\",\"fragrance\",\"tranquility\",\"serenity\",\"sparrow\",\n",
    "             \"glimmer\",\"dewdrop\",\"breeze\",\n",
    "             \"summer\", \"winter\", \"spring\", \"autumn\", \"holiday\", \"laughter\", \n",
    "             \"love\", \"letter\", \"river\",\"whispering\", \"christmas\", \"tree\",\"house\",\"leaf\"\n",
    "            \"harmony\",\"dawn\"],\n",
    "    \"verb\": [\"drift\",\"echo\",\"embrace\",\"illuminate\",\"linger\",\"whisper\", \"move\", \"listen\",\n",
    "             \"glance\", \"sit\", \"lay down\", \"smile\", \"cry\",\"envelop\",\"enchant\",\"dream\",\"yield\",\n",
    "             \"dance\",\"wander\",\"hug\"],\n",
    "    \"prep\": [\"beneath\", \"beyond\", \"in\", \"beside\", \"under\", \"along\" , \"on\", \"against\"],\n",
    "    \"adj\": [\"gentle\", \"golden\", \"enchanted\", \"silent\", \"mystic\", \"fleeting\", \"whispering\",\n",
    "            \"fragrant\", \"tranquil\"]\n",
    "}\n",
    "\n",
    "grammar = tracery.Grammar(rule)\n",
    "grammar.add_modifiers(base_english)\n",
    "for i in range(3):\n",
    "    for j in range(1):\n",
    "        print(grammar.flatten(\"#origin#\"))\n",
    "    print()"
   ]
  },
  {
   "cell_type": "code",
   "execution_count": null,
   "id": "abe73ce4",
   "metadata": {},
   "outputs": [],
   "source": []
  }
 ],
 "metadata": {
  "kernelspec": {
   "display_name": "Python 3 (ipykernel)",
   "language": "python",
   "name": "python3"
  },
  "language_info": {
   "codemirror_mode": {
    "name": "ipython",
    "version": 3
   },
   "file_extension": ".py",
   "mimetype": "text/x-python",
   "name": "python",
   "nbconvert_exporter": "python",
   "pygments_lexer": "ipython3",
   "version": "3.11.5"
  }
 },
 "nbformat": 4,
 "nbformat_minor": 5
}
