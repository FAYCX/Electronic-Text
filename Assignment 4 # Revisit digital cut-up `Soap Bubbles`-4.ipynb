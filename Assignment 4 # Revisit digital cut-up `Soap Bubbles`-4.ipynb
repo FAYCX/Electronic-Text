{
 "cells": [
  {
   "cell_type": "markdown",
   "id": "4a34b055",
   "metadata": {},
   "source": [
    "# Digital cut-up and color usage analysis"
   ]
  },
  {
   "cell_type": "markdown",
   "id": "6b4dbba1",
   "metadata": {},
   "source": [
    "###  <span style=\"color:green;\"> of the original poem `Soap Bubbles` by Hermann Hesse (1877) </span>"
   ]
  },
  {
   "cell_type": "code",
   "execution_count": 123,
   "id": "f851b196",
   "metadata": {},
   "outputs": [],
   "source": [
    "import random\n",
    "import spacy"
   ]
  },
  {
   "cell_type": "code",
   "execution_count": 124,
   "id": "0b768a24",
   "metadata": {},
   "outputs": [],
   "source": [
    "%matplotlib inline\n",
    "import pandas as pd\n",
    "import numpy as np\n",
    "import matplotlib.pyplot as plt\n",
    "plt.style.use('ggplot')\n",
    "plt.rcParams[\"figure.figsize\"] = (10, 4)"
   ]
  },
  {
   "cell_type": "code",
   "execution_count": 125,
   "id": "67004333",
   "metadata": {},
   "outputs": [],
   "source": [
    "from simpleneighbors import SimpleNeighbors"
   ]
  },
  {
   "cell_type": "code",
   "execution_count": 126,
   "id": "e8a7b3e1",
   "metadata": {},
   "outputs": [],
   "source": [
    "nlp = spacy.load('en_core_web_md')"
   ]
  },
  {
   "cell_type": "code",
   "execution_count": 127,
   "id": "cb6b1ae3",
   "metadata": {},
   "outputs": [],
   "source": [
    "newversion = nlp(open(\"Soap Bubbles.txt\").read())"
   ]
  },
  {
   "cell_type": "code",
   "execution_count": 128,
   "id": "cac6862e",
   "metadata": {
    "scrolled": true
   },
   "outputs": [
    {
     "name": "stdout",
     "output_type": "stream",
     "text": [
      "From years of study and of contemplation\n",
      "An old man brews a work of clarity,\n",
      "A gay and involuted dissertation\n",
      "Discoursing on sweet wisdom playfully.\n",
      "\n",
      "An eager student bent on storming heights\n",
      "Has delved in archives and in libraries,\n",
      "But adds the touch of genius when he writes\n",
      "A first book full of deepest subtleties.\n",
      "\n",
      "A boy, with bowl and straw, sits and blows,\n",
      "Filling with breath the bubbles from the bowl.\n",
      "Each praises like a hymn, and each one glows;\n",
      "Into the filmy beads he blows his soul.\n",
      "\n",
      "Old man, student, boy, all these three\n",
      "Out of the Maya-foam of the universe\n",
      "Create illusions. None is better or worse.\n",
      "But in each of them the Light of Eternity\n",
      "Sees its reflection, and burns more joyfully.\n",
      "\n"
     ]
    }
   ],
   "source": [
    "print(newversion)"
   ]
  },
  {
   "cell_type": "code",
   "execution_count": 129,
   "id": "cdaac559",
   "metadata": {},
   "outputs": [],
   "source": [
    "def vec(s):\n",
    "    return nlp.vocab[s].vector"
   ]
  },
  {
   "cell_type": "code",
   "execution_count": 130,
   "id": "69026bfd",
   "metadata": {
    "scrolled": true
   },
   "outputs": [
    {
     "name": "stdout",
     "output_type": "stream",
     "text": [
      "  % Total    % Received % Xferd  Average Speed   Time    Time     Time  Current\n",
      "                                 Dload  Upload   Total   Spent    Left  Speed\n",
      "100  898k  100  898k    0     0  4383k      0 --:--:-- --:--:-- --:--:-- 4447k\n"
     ]
    }
   ],
   "source": [
    "!curl -L -O https://raw.githubusercontent.com/aparrish/wordfreq-en-25000/main/wordfreq-en-25000-log.json"
   ]
  },
  {
   "cell_type": "code",
   "execution_count": 131,
   "id": "cc312027",
   "metadata": {},
   "outputs": [],
   "source": [
    "import json\n",
    "prob_lookup = dict(json.load(open(\"./wordfreq-en-25000-log.json\")))"
   ]
  },
  {
   "cell_type": "code",
   "execution_count": 132,
   "id": "bc03f13a",
   "metadata": {},
   "outputs": [],
   "source": [
    "lookup = SimpleNeighbors(300)\n",
    "for word in prob_lookup.keys():\n",
    "    if nlp.vocab[word].has_vector:\n",
    "        lookup.add_one(word, vec(word))\n",
    "lookup.build()"
   ]
  },
  {
   "cell_type": "code",
   "execution_count": 133,
   "id": "73db5a7c",
   "metadata": {
    "scrolled": true
   },
   "outputs": [
    {
     "name": "stdout",
     "output_type": "stream",
     "text": [
      "From age of studies and of florence\n",
      "An woman housewife brews a internship of confidence,\n",
      "A lesbians and involuted exposition\n",
      "Discoursing on fudge divine charm.\n",
      "\n",
      "An annoyed academic bent on storming tension\n",
      "Has delved in archival and in library,\n",
      "But adds the comfortably of marvellous when he writes\n",
      "A firstly brochure superb of deepest misconceptions.\n",
      "\n",
      "A lady, with cup and terry, sits and blows,\n",
      "Filling with gently the droplets from the jar.\n",
      "Each igor like a rhymes, and each one glows;\n",
      "Into the films bead he blows his abode.\n",
      "\n",
      "prairie man, students, boy, all these three\n",
      "Out of the Maya-poly of the universal\n",
      "Create essence. nothin is harden or shameful.\n",
      "But in each of them the Light of illusion\n",
      "Sees its liberalization, and burns rather lovely.\n",
      "\n"
     ]
    }
   ],
   "source": [
    "output = []\n",
    "for word in newversion:\n",
    "    if word.is_alpha and word.pos_ in ('NOUN', 'ADJ','ADV'):\n",
    "        new_word = random.choice(lookup.nearest(word.vector, 10))\n",
    "        output.append(new_word)\n",
    "    else:\n",
    "        output.append(word.text)\n",
    "    output.append(word.whitespace_)\n",
    "print(''.join(output))"
   ]
  },
  {
   "cell_type": "code",
   "execution_count": 136,
   "id": "627339c1",
   "metadata": {},
   "outputs": [],
   "source": [
    "chunk_lookup = SimpleNeighbors(300)\n",
    "for chunk in newversion.noun_chunks:\n",
    "    chunk_text = chunk.text.replace(\"\\n\", \" \")\n",
    "    if chunk_text not in chunk_lookup.corpus:\n",
    "        chunk_lookup.add_one(chunk_text, chunk.vector)\n",
    "chunk_lookup.build()"
   ]
  },
  {
   "cell_type": "code",
   "execution_count": 137,
   "id": "a6d56640",
   "metadata": {
    "scrolled": false
   },
   "outputs": [
    {
     "data": {
      "text/plain": [
       "['straw',\n",
       " 'bowl',\n",
       " 'the bubbles',\n",
       " 'the filmy beads',\n",
       " 'sweet wisdom',\n",
       " 'breath',\n",
       " 'the bowl',\n",
       " 'them',\n",
       " 'the Maya-foam',\n",
       " 'the touch',\n",
       " 'a work',\n",
       " 'each']"
      ]
     },
     "execution_count": 137,
     "metadata": {},
     "output_type": "execute_result"
    }
   ],
   "source": [
    "chunk_lookup.nearest(nlp(\"soap bubbles\").vector)"
   ]
  },
  {
   "cell_type": "code",
   "execution_count": 138,
   "id": "26e455b5",
   "metadata": {
    "scrolled": true
   },
   "outputs": [
    {
     "data": {
      "text/plain": [
       "['sweet wisdom',\n",
       " 'straw',\n",
       " 'bowl',\n",
       " 'breath',\n",
       " 'a hymn',\n",
       " 'genius',\n",
       " 'them',\n",
       " 'his soul',\n",
       " 'A boy',\n",
       " 'clarity',\n",
       " 'deepest subtleties',\n",
       " 'Old man']"
      ]
     },
     "execution_count": 138,
     "metadata": {},
     "output_type": "execute_result"
    }
   ],
   "source": [
    "chunk_lookup.nearest(nlp(\"sweet\").vector)"
   ]
  },
  {
   "cell_type": "code",
   "execution_count": 139,
   "id": "f87a8e0c",
   "metadata": {},
   "outputs": [
    {
     "data": {
      "text/plain": [
       "['deepest subtleties',\n",
       " 'sweet wisdom',\n",
       " 'the universe Create illusions',\n",
       " 'the touch',\n",
       " 'his soul',\n",
       " 'clarity',\n",
       " 'the bubbles',\n",
       " 'heights',\n",
       " 'breath',\n",
       " 'Eternity',\n",
       " 'its reflection',\n",
       " 'them']"
      ]
     },
     "execution_count": 139,
     "metadata": {},
     "output_type": "execute_result"
    }
   ],
   "source": [
    "chunk_lookup.nearest(nlp(\"deepest\").vector)"
   ]
  },
  {
   "cell_type": "code",
   "execution_count": 140,
   "id": "f10b4fa3",
   "metadata": {
    "scrolled": true
   },
   "outputs": [
    {
     "name": "stdout",
     "output_type": "stream",
     "text": [
      "From archives of libraries and of deepest subtleties\n",
      "An old Old man brews a student of clarity,\n",
      "A gay and involuted study\n",
      "Discoursing on sweet deepest subtleties playfully.\n",
      "\n",
      "An eager study bent on storming deepest subtleties\n",
      "Has delved in contemplation and in the universe Create illusions,\n",
      "But adds the sweet wisdom of sweet wisdom when he writes\n",
      "A first libraries full of deepest deepest subtleties.\n",
      "\n",
      "A A boy, with straw and bowl, sits and blows,\n",
      "Filling with breath the straw from the the bowl.\n",
      "Each clarity like a Old man, and each one glows;\n",
      "Into the filmy sweet wisdom he blows his his soul.\n",
      "\n",
      "Old An old man, libraries, boy, all these three\n",
      "Out of the Maya-straw of the universe\n",
      "Create deepest subtleties. deepest subtleties is better or worse.\n",
      "But in each of them the Light of Eternity\n",
      "Sees its deepest subtleties, and burns more joyfully.\n",
      "\n"
     ]
    }
   ],
   "source": [
    "output = []\n",
    "for word in newversion:\n",
    "    if word.is_alpha and word.pos_ == 'NOUN':\n",
    "        new_word = random.choice(chunk_lookup.nearest(word.vector,4))\n",
    "        output.append(new_word)\n",
    "    elif word.is_alpha and word.tag_ == 'ADJ':\n",
    "        new_word = random.choice(adj_lookup.nearest(word.vector, 4))\n",
    "        output.append(new_word)\n",
    "    else:\n",
    "        output.append(word.text)\n",
    "    output.append(word.whitespace_)\n",
    "print(''.join(output))"
   ]
  },
  {
   "cell_type": "code",
   "execution_count": 141,
   "id": "4d42ce15",
   "metadata": {
    "scrolled": false
   },
   "outputs": [
    {
     "data": {
      "text/plain": [
       "['Each praises like a hymn, and each one glows; Into the filmy beads he blows his soul.  ',\n",
       " 'None is better or worse. ',\n",
       " 'But in each of them the Light of Eternity Sees its reflection, and burns more joyfully. ',\n",
       " 'An eager student bent on storming heights Has delved in archives and in libraries, But adds the touch of genius when he writes A first book full of deepest subtleties.  ',\n",
       " 'A boy, with bowl and straw, sits and blows, Filling with breath the bubbles from the bowl. ',\n",
       " 'Old man, student, boy, all these three Out of the Maya-foam of the universe Create illusions.',\n",
       " 'From years of study and of contemplation An old man brews a work of clarity, A gay and involuted dissertation Discoursing on sweet wisdom playfully.  ']"
      ]
     },
     "execution_count": 141,
     "metadata": {},
     "output_type": "execute_result"
    }
   ],
   "source": [
    "sentence_lookup.nearest(nlp(\"Read to me.\").vector)"
   ]
  },
  {
   "cell_type": "markdown",
   "id": "5bb5c961",
   "metadata": {},
   "source": [
    "## Digital color analysis"
   ]
  },
  {
   "cell_type": "code",
   "execution_count": 143,
   "id": "fda168ba",
   "metadata": {},
   "outputs": [],
   "source": [
    "color_data = json.loads(open(\"xkcd.json\").read())"
   ]
  },
  {
   "cell_type": "code",
   "execution_count": 144,
   "id": "a0ebf70e",
   "metadata": {},
   "outputs": [],
   "source": [
    "from numpy.linalg import norm\n",
    "\n",
    "def distance(a,b):\n",
    "    return norm(a-b)"
   ]
  },
  {
   "cell_type": "code",
   "execution_count": 145,
   "id": "1c99fd82",
   "metadata": {},
   "outputs": [],
   "source": [
    "def hex_to_int(s):\n",
    "    s = s.lstrip(\"#\")\n",
    "    return np.array([int(s[:2], 16), int(s[2:4], 16), int(s[4:6], 16)])"
   ]
  },
  {
   "cell_type": "code",
   "execution_count": 146,
   "id": "0951149a",
   "metadata": {},
   "outputs": [],
   "source": [
    "colors = dict()\n",
    "for item in color_data['colors']:\n",
    "    colors[item['color']]= hex_to_int(item['hex'])\n"
   ]
  },
  {
   "cell_type": "code",
   "execution_count": 147,
   "id": "8075e213",
   "metadata": {},
   "outputs": [],
   "source": [
    "def meanv(vecs):\n",
    "    total = np.sum(vecs, axis=0)\n",
    "    return total / len(vecs)"
   ]
  },
  {
   "cell_type": "code",
   "execution_count": 156,
   "id": "20c2a7ef",
   "metadata": {},
   "outputs": [],
   "source": [
    "color_lookup = SimpleNeighbors(3,'euclidean')\n",
    "for name,vec in colors.items():\n",
    "    color_lookup.add_one(name,vec)\n",
    "color_lookup.build()"
   ]
  },
  {
   "cell_type": "code",
   "execution_count": 160,
   "id": "3b165c2c",
   "metadata": {
    "scrolled": true
   },
   "outputs": [
    {
     "name": "stdout",
     "output_type": "stream",
     "text": [
      "[252. 246. 121.]\n"
     ]
    }
   ],
   "source": [
    "drac_colors = [colors[word.lower_] for word in newversion if word.lower_ in colors]\n",
    "avg_colors = meanv(drac_colors)\n",
    "print(avg_colors)"
   ]
  },
  {
   "cell_type": "code",
   "execution_count": 159,
   "id": "74a0d71c",
   "metadata": {
    "scrolled": true
   },
   "outputs": [
    {
     "data": {
      "text/plain": [
       "['straw', 'custard', 'light yellow', 'butter yellow', 'sandy yellow']"
      ]
     },
     "execution_count": 159,
     "metadata": {},
     "output_type": "execute_result"
    }
   ],
   "source": [
    "color_lookup.nearest(avg_colors,5)"
   ]
  },
  {
   "cell_type": "markdown",
   "id": "b0101c90",
   "metadata": {},
   "source": [
    "### The digital color of `Soap Bubbles`:"
   ]
  },
  {
   "cell_type": "markdown",
   "id": "e3925c25",
   "metadata": {},
   "source": [
    "<img src=\"color1.png\" width=\"450\" height=\"450\">"
   ]
  },
  {
   "cell_type": "markdown",
   "id": "54319909",
   "metadata": {},
   "source": [
    "## - The End -"
   ]
  }
 ],
 "metadata": {
  "kernelspec": {
   "display_name": "Python 3 (ipykernel)",
   "language": "python",
   "name": "python3"
  },
  "language_info": {
   "codemirror_mode": {
    "name": "ipython",
    "version": 3
   },
   "file_extension": ".py",
   "mimetype": "text/x-python",
   "name": "python",
   "nbconvert_exporter": "python",
   "pygments_lexer": "ipython3",
   "version": "3.11.8"
  }
 },
 "nbformat": 4,
 "nbformat_minor": 5
}
