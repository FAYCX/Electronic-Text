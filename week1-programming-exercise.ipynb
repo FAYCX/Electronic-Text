{
 "cells": [
  {
   "cell_type": "code",
   "execution_count": 1,
   "id": "37913788",
   "metadata": {},
   "outputs": [
    {
     "name": "stdout",
     "output_type": "stream",
     "text": [
      "7.0\n"
     ]
    }
   ],
   "source": [
    "print((10+4)/2)"
   ]
  },
  {
   "cell_type": "code",
   "execution_count": 2,
   "id": "b1aa069b",
   "metadata": {},
   "outputs": [
    {
     "name": "stdout",
     "output_type": "stream",
     "text": [
      "32\n"
     ]
    }
   ],
   "source": [
    "my_number = 32\n",
    "print(my_number)"
   ]
  },
  {
   "cell_type": "code",
   "execution_count": 5,
   "id": "ce6dd78f",
   "metadata": {
    "scrolled": true
   },
   "outputs": [
    {
     "data": {
      "text/plain": [
       "str"
      ]
     },
     "execution_count": 5,
     "metadata": {},
     "output_type": "execute_result"
    }
   ],
   "source": [
    "x = 14\n",
    "y = 17.4\n",
    "z = \"mother said there'd be days like these\"\n",
    "type(z)"
   ]
  },
  {
   "cell_type": "code",
   "execution_count": 7,
   "id": "bbbdbd3d",
   "metadata": {},
   "outputs": [
    {
     "name": "stdout",
     "output_type": "stream",
     "text": [
      "We aren't friends now.\n"
     ]
    }
   ],
   "source": [
    "print('We aren\\'t friends now.')"
   ]
  },
  {
   "cell_type": "code",
   "execution_count": 9,
   "id": "d5d28bef",
   "metadata": {},
   "outputs": [
    {
     "name": "stdout",
     "output_type": "stream",
     "text": [
      "51\n"
     ]
    }
   ],
   "source": [
    "first_line = \"It was the best of times.\"\n",
    "second_line = \"It was the worst of times.\"\n",
    "sum_of_lengths=len(first_line)+len(second_line)\n",
    "print(sum_of_lengths)"
   ]
  },
  {
   "cell_type": "code",
   "execution_count": 11,
   "id": "4d9ceee2",
   "metadata": {},
   "outputs": [
    {
     "name": "stdout",
     "output_type": "stream",
     "text": [
      "37\n"
     ]
    }
   ],
   "source": [
    "romeo = \"But, soft! what light through yonder window breaks?\"\n",
    "find_position=romeo.find(\"window\")\n",
    "print(find_position)"
   ]
  },
  {
   "cell_type": "code",
   "execution_count": 12,
   "id": "cc1762ed",
   "metadata": {},
   "outputs": [
    {
     "name": "stdout",
     "output_type": "stream",
     "text": [
      "and the horse you rode in on\n"
     ]
    }
   ],
   "source": [
    "benediction = \"     and the horse you rode in on    \\n\"\n",
    "print(benediction.strip())"
   ]
  },
  {
   "cell_type": "code",
   "execution_count": 13,
   "id": "99b5e0c1",
   "metadata": {},
   "outputs": [
    {
     "name": "stdout",
     "output_type": "stream",
     "text": [
      "AND THE HORSE YOU RODE IN ON\n"
     ]
    }
   ],
   "source": [
    "benediction = \"     and the horse you rode in on    \\n\"\n",
    "print(benediction.strip().upper())"
   ]
  },
  {
   "cell_type": "code",
   "execution_count": 16,
   "id": "0e7aebcf",
   "metadata": {},
   "outputs": [
    {
     "name": "stdout",
     "output_type": "stream",
     "text": [
      "p\n"
     ]
    }
   ],
   "source": [
    "offset=1\n",
    "\"apple\"[offset]\n",
    "print(\"apple\"[offset])"
   ]
  },
  {
   "cell_type": "code",
   "execution_count": 20,
   "id": "50201350",
   "metadata": {},
   "outputs": [
    {
     "name": "stdout",
     "output_type": "stream",
     "text": [
      "yonde\n"
     ]
    }
   ],
   "source": [
    "start = 30\n",
    "end = 35\n",
    "romeo = \"But, soft! what light through yonder window breaks?\"\n",
    "romeo[start:end]\n",
    "print(romeo[start:end])"
   ]
  },
  {
   "cell_type": "code",
   "execution_count": 22,
   "id": "9cff72ec",
   "metadata": {},
   "outputs": [
    {
     "name": "stdout",
     "output_type": "stream",
     "text": [
      "100\n"
     ]
    }
   ],
   "source": [
    "print(int(\"19\") + int(\"81\"))"
   ]
  }
 ],
 "metadata": {
  "kernelspec": {
   "display_name": "Python 3 (ipykernel)",
   "language": "python",
   "name": "python3"
  },
  "language_info": {
   "codemirror_mode": {
    "name": "ipython",
    "version": 3
   },
   "file_extension": ".py",
   "mimetype": "text/x-python",
   "name": "python",
   "nbconvert_exporter": "python",
   "pygments_lexer": "ipython3",
   "version": "3.11.5"
  }
 },
 "nbformat": 4,
 "nbformat_minor": 5
}
